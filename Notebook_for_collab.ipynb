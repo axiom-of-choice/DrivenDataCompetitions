{
  "nbformat": 4,
  "nbformat_minor": 0,
  "metadata": {
    "kernelspec": {
      "display_name": "Python 3",
      "language": "python",
      "name": "python3"
    },
    "language_info": {
      "codemirror_mode": {
        "name": "ipython",
        "version": 2
      },
      "file_extension": ".py",
      "mimetype": "text/x-python",
      "name": "python",
      "nbconvert_exporter": "python",
      "pygments_lexer": "ipython2",
      "version": "2.7.6"
    },
    "colab": {
      "name": "Notebook for collab.ipynb",
      "provenance": [],
      "collapsed_sections": [],
      "include_colab_link": true
    }
  },
  "cells": [
    {
      "cell_type": "markdown",
      "metadata": {
        "id": "view-in-github",
        "colab_type": "text"
      },
      "source": [
        "<a href=\"https://colab.research.google.com/github/axiom-of-choice/DrivenDataCompetitions/blob/master/Notebook_for_collab.ipynb\" target=\"_parent\"><img src=\"https://colab.research.google.com/assets/colab-badge.svg\" alt=\"Open In Colab\"/></a>"
      ]
    },
    {
      "cell_type": "markdown",
      "metadata": {
        "collapsed": true,
        "pycharm": {
          "name": "#%% md\n"
        },
        "id": "qrYe-X0IJBPA"
      },
      "source": [
        "# This notebook contains my notebook for the Box-Plots for Education competition"
      ]
    },
    {
      "cell_type": "markdown",
      "metadata": {
        "collapsed": false,
        "pycharm": {
          "name": "#%% md\n"
        },
        "id": "bOS1GzmKJBPE"
      },
      "source": [
        "The data can be found here : https://www.drivendata.org/competitions/46/box-plots-for-education-reboot/"
      ]
    },
    {
      "cell_type": "code",
      "metadata": {
        "id": "6luSJkgEK6nA",
        "colab": {
          "base_uri": "https://localhost:8080/"
        },
        "outputId": "1c416349-6473-46d7-9251-45d356e22926"
      },
      "source": [
        "from google.colab import drive\n",
        "drive.mount('/content/drive')"
      ],
      "execution_count": 1,
      "outputs": [
        {
          "output_type": "stream",
          "name": "stdout",
          "text": [
            "Drive already mounted at /content/drive; to attempt to forcibly remount, call drive.mount(\"/content/drive\", force_remount=True).\n"
          ]
        }
      ]
    },
    {
      "cell_type": "code",
      "metadata": {
        "id": "xs0y72mELC6e",
        "colab": {
          "base_uri": "https://localhost:8080/",
          "height": 42
        },
        "outputId": "28a2b3eb-6644-4658-cfb0-d55c6b2cf733"
      },
      "source": [
        "import os \n",
        "os.getcwd()"
      ],
      "execution_count": 2,
      "outputs": [
        {
          "output_type": "execute_result",
          "data": {
            "application/vnd.google.colaboratory.intrinsic+json": {
              "type": "string"
            },
            "text/plain": [
              "'/content'"
            ]
          },
          "metadata": {},
          "execution_count": 2
        }
      ]
    },
    {
      "cell_type": "code",
      "metadata": {
        "id": "Ce9rKJJALbCy"
      },
      "source": [
        "os.chdir('/content/drive/My Drive/datasets')"
      ],
      "execution_count": 3,
      "outputs": []
    },
    {
      "cell_type": "code",
      "metadata": {
        "id": "VAOS6fIvMAWw",
        "colab": {
          "base_uri": "https://localhost:8080/"
        },
        "outputId": "870c2d6b-51ee-4b51-fd7c-6032144e700f"
      },
      "source": [
        "import pandas as pd \n",
        "train = pd.read_csv(\"TrainingData.csv\")\n",
        "test = pd.read_csv(\"TestData.csv\")\n",
        "format = pd.read_csv(\"SubmissionFormat.csv\")\n",
        "df = train"
      ],
      "execution_count": 4,
      "outputs": [
        {
          "output_type": "stream",
          "name": "stderr",
          "text": [
            "/usr/local/lib/python3.7/dist-packages/IPython/core/interactiveshell.py:2718: DtypeWarning: Columns (5,11) have mixed types.Specify dtype option on import or set low_memory=False.\n",
            "  interactivity=interactivity, compiler=compiler, result=result)\n"
          ]
        }
      ]
    },
    {
      "cell_type": "markdown",
      "metadata": {
        "collapsed": false,
        "pycharm": {
          "name": "#%% md\n"
        },
        "id": "ntzUr6ETJBPH"
      },
      "source": [
        "Exploratory Data Analysis"
      ]
    },
    {
      "cell_type": "code",
      "metadata": {
        "pycharm": {
          "name": "#%%\n"
        },
        "id": "C--_bT8kJBPI",
        "colab": {
          "base_uri": "https://localhost:8080/",
          "height": 1000
        },
        "outputId": "4344f1ae-a1c3-434c-fdda-2c2e39d22d3a"
      },
      "source": [
        "display(train.info())\n",
        "display(train.head())\n",
        "display(train.tail())"
      ],
      "execution_count": 5,
      "outputs": [
        {
          "output_type": "stream",
          "name": "stdout",
          "text": [
            "<class 'pandas.core.frame.DataFrame'>\n",
            "RangeIndex: 400277 entries, 0 to 400276\n",
            "Data columns (total 26 columns):\n",
            " #   Column                  Non-Null Count   Dtype  \n",
            "---  ------                  --------------   -----  \n",
            " 0   Unnamed: 0              400277 non-null  int64  \n",
            " 1   Function                400277 non-null  object \n",
            " 2   Use                     400277 non-null  object \n",
            " 3   Sharing                 400277 non-null  object \n",
            " 4   Reporting               400277 non-null  object \n",
            " 5   Student_Type            400277 non-null  object \n",
            " 6   Position_Type           400277 non-null  object \n",
            " 7   Object_Type             400277 non-null  object \n",
            " 8   Pre_K                   400277 non-null  object \n",
            " 9   Operating_Status        400277 non-null  object \n",
            " 10  Object_Description      375493 non-null  object \n",
            " 11  Text_2                  88217 non-null   object \n",
            " 12  SubFund_Description     306855 non-null  object \n",
            " 13  Job_Title_Description   292743 non-null  object \n",
            " 14  Text_3                  109152 non-null  object \n",
            " 15  Text_4                  53746 non-null   object \n",
            " 16  Sub_Object_Description  91603 non-null   object \n",
            " 17  Location_Description    162054 non-null  object \n",
            " 18  FTE                     126071 non-null  float64\n",
            " 19  Function_Description    342195 non-null  object \n",
            " 20  Facility_or_Department  53886 non-null   object \n",
            " 21  Position_Extra          264764 non-null  object \n",
            " 22  Total                   395722 non-null  float64\n",
            " 23  Program_Description     304660 non-null  object \n",
            " 24  Fund_Description        202877 non-null  object \n",
            " 25  Text_1                  292285 non-null  object \n",
            "dtypes: float64(2), int64(1), object(23)\n",
            "memory usage: 79.4+ MB\n"
          ]
        },
        {
          "output_type": "display_data",
          "data": {
            "text/plain": [
              "None"
            ]
          },
          "metadata": {}
        },
        {
          "output_type": "display_data",
          "data": {
            "text/html": [
              "<div>\n",
              "<style scoped>\n",
              "    .dataframe tbody tr th:only-of-type {\n",
              "        vertical-align: middle;\n",
              "    }\n",
              "\n",
              "    .dataframe tbody tr th {\n",
              "        vertical-align: top;\n",
              "    }\n",
              "\n",
              "    .dataframe thead th {\n",
              "        text-align: right;\n",
              "    }\n",
              "</style>\n",
              "<table border=\"1\" class=\"dataframe\">\n",
              "  <thead>\n",
              "    <tr style=\"text-align: right;\">\n",
              "      <th></th>\n",
              "      <th>Unnamed: 0</th>\n",
              "      <th>Function</th>\n",
              "      <th>Use</th>\n",
              "      <th>Sharing</th>\n",
              "      <th>Reporting</th>\n",
              "      <th>Student_Type</th>\n",
              "      <th>Position_Type</th>\n",
              "      <th>Object_Type</th>\n",
              "      <th>Pre_K</th>\n",
              "      <th>Operating_Status</th>\n",
              "      <th>Object_Description</th>\n",
              "      <th>Text_2</th>\n",
              "      <th>SubFund_Description</th>\n",
              "      <th>Job_Title_Description</th>\n",
              "      <th>Text_3</th>\n",
              "      <th>Text_4</th>\n",
              "      <th>Sub_Object_Description</th>\n",
              "      <th>Location_Description</th>\n",
              "      <th>FTE</th>\n",
              "      <th>Function_Description</th>\n",
              "      <th>Facility_or_Department</th>\n",
              "      <th>Position_Extra</th>\n",
              "      <th>Total</th>\n",
              "      <th>Program_Description</th>\n",
              "      <th>Fund_Description</th>\n",
              "      <th>Text_1</th>\n",
              "    </tr>\n",
              "  </thead>\n",
              "  <tbody>\n",
              "    <tr>\n",
              "      <th>0</th>\n",
              "      <td>134338</td>\n",
              "      <td>Teacher Compensation</td>\n",
              "      <td>Instruction</td>\n",
              "      <td>School Reported</td>\n",
              "      <td>School</td>\n",
              "      <td>NO_LABEL</td>\n",
              "      <td>Teacher</td>\n",
              "      <td>NO_LABEL</td>\n",
              "      <td>NO_LABEL</td>\n",
              "      <td>PreK-12 Operating</td>\n",
              "      <td>NaN</td>\n",
              "      <td>NaN</td>\n",
              "      <td>NaN</td>\n",
              "      <td>Teacher-Elementary</td>\n",
              "      <td>NaN</td>\n",
              "      <td>NaN</td>\n",
              "      <td>NaN</td>\n",
              "      <td>NaN</td>\n",
              "      <td>1.0</td>\n",
              "      <td>NaN</td>\n",
              "      <td>NaN</td>\n",
              "      <td>KINDERGARTEN</td>\n",
              "      <td>50471.810</td>\n",
              "      <td>KINDERGARTEN</td>\n",
              "      <td>General Fund</td>\n",
              "      <td>NaN</td>\n",
              "    </tr>\n",
              "    <tr>\n",
              "      <th>1</th>\n",
              "      <td>206341</td>\n",
              "      <td>NO_LABEL</td>\n",
              "      <td>NO_LABEL</td>\n",
              "      <td>NO_LABEL</td>\n",
              "      <td>NO_LABEL</td>\n",
              "      <td>NO_LABEL</td>\n",
              "      <td>NO_LABEL</td>\n",
              "      <td>NO_LABEL</td>\n",
              "      <td>NO_LABEL</td>\n",
              "      <td>Non-Operating</td>\n",
              "      <td>CONTRACTOR SERVICES</td>\n",
              "      <td>BOND EXPENDITURES</td>\n",
              "      <td>BUILDING FUND</td>\n",
              "      <td>(blank)</td>\n",
              "      <td>Regular</td>\n",
              "      <td>NaN</td>\n",
              "      <td>NaN</td>\n",
              "      <td>NaN</td>\n",
              "      <td>NaN</td>\n",
              "      <td>RGN  GOB</td>\n",
              "      <td>NaN</td>\n",
              "      <td>UNDESIGNATED</td>\n",
              "      <td>3477.860</td>\n",
              "      <td>BUILDING IMPROVEMENT SERVICES</td>\n",
              "      <td>NaN</td>\n",
              "      <td>BUILDING IMPROVEMENT SERVICES</td>\n",
              "    </tr>\n",
              "    <tr>\n",
              "      <th>2</th>\n",
              "      <td>326408</td>\n",
              "      <td>Teacher Compensation</td>\n",
              "      <td>Instruction</td>\n",
              "      <td>School Reported</td>\n",
              "      <td>School</td>\n",
              "      <td>Unspecified</td>\n",
              "      <td>Teacher</td>\n",
              "      <td>Base Salary/Compensation</td>\n",
              "      <td>Non PreK</td>\n",
              "      <td>PreK-12 Operating</td>\n",
              "      <td>Personal Services - Teachers</td>\n",
              "      <td>NaN</td>\n",
              "      <td>NaN</td>\n",
              "      <td>TCHER 2ND GRADE</td>\n",
              "      <td>NaN</td>\n",
              "      <td>Regular Instruction</td>\n",
              "      <td>NaN</td>\n",
              "      <td>NaN</td>\n",
              "      <td>1.0</td>\n",
              "      <td>NaN</td>\n",
              "      <td>NaN</td>\n",
              "      <td>TEACHER</td>\n",
              "      <td>62237.130</td>\n",
              "      <td>Instruction - Regular</td>\n",
              "      <td>General Purpose School</td>\n",
              "      <td>NaN</td>\n",
              "    </tr>\n",
              "    <tr>\n",
              "      <th>3</th>\n",
              "      <td>364634</td>\n",
              "      <td>Substitute Compensation</td>\n",
              "      <td>Instruction</td>\n",
              "      <td>School Reported</td>\n",
              "      <td>School</td>\n",
              "      <td>Unspecified</td>\n",
              "      <td>Substitute</td>\n",
              "      <td>Benefits</td>\n",
              "      <td>NO_LABEL</td>\n",
              "      <td>PreK-12 Operating</td>\n",
              "      <td>EMPLOYEE BENEFITS</td>\n",
              "      <td>TEACHER SUBS</td>\n",
              "      <td>GENERAL FUND</td>\n",
              "      <td>Teacher, Short Term Sub</td>\n",
              "      <td>Regular</td>\n",
              "      <td>NaN</td>\n",
              "      <td>NaN</td>\n",
              "      <td>NaN</td>\n",
              "      <td>NaN</td>\n",
              "      <td>UNALLOC BUDGETS/SCHOOLS</td>\n",
              "      <td>NaN</td>\n",
              "      <td>PROFESSIONAL-INSTRUCTIONAL</td>\n",
              "      <td>22.300</td>\n",
              "      <td>GENERAL MIDDLE/JUNIOR HIGH SCH</td>\n",
              "      <td>NaN</td>\n",
              "      <td>REGULAR INSTRUCTION</td>\n",
              "    </tr>\n",
              "    <tr>\n",
              "      <th>4</th>\n",
              "      <td>47683</td>\n",
              "      <td>Substitute Compensation</td>\n",
              "      <td>Instruction</td>\n",
              "      <td>School Reported</td>\n",
              "      <td>School</td>\n",
              "      <td>Unspecified</td>\n",
              "      <td>Teacher</td>\n",
              "      <td>Substitute Compensation</td>\n",
              "      <td>NO_LABEL</td>\n",
              "      <td>PreK-12 Operating</td>\n",
              "      <td>TEACHER COVERAGE FOR TEACHER</td>\n",
              "      <td>TEACHER SUBS</td>\n",
              "      <td>GENERAL FUND</td>\n",
              "      <td>Teacher, Secondary (High)</td>\n",
              "      <td>Alternative</td>\n",
              "      <td>NaN</td>\n",
              "      <td>NaN</td>\n",
              "      <td>NaN</td>\n",
              "      <td>NaN</td>\n",
              "      <td>NON-PROJECT</td>\n",
              "      <td>NaN</td>\n",
              "      <td>PROFESSIONAL-INSTRUCTIONAL</td>\n",
              "      <td>54.166</td>\n",
              "      <td>GENERAL HIGH SCHOOL EDUCATION</td>\n",
              "      <td>NaN</td>\n",
              "      <td>REGULAR INSTRUCTION</td>\n",
              "    </tr>\n",
              "  </tbody>\n",
              "</table>\n",
              "</div>"
            ],
            "text/plain": [
              "   Unnamed: 0  ...                         Text_1\n",
              "0      134338  ...                            NaN\n",
              "1      206341  ...  BUILDING IMPROVEMENT SERVICES\n",
              "2      326408  ...                            NaN\n",
              "3      364634  ...            REGULAR INSTRUCTION\n",
              "4       47683  ...            REGULAR INSTRUCTION\n",
              "\n",
              "[5 rows x 26 columns]"
            ]
          },
          "metadata": {}
        },
        {
          "output_type": "display_data",
          "data": {
            "text/html": [
              "<div>\n",
              "<style scoped>\n",
              "    .dataframe tbody tr th:only-of-type {\n",
              "        vertical-align: middle;\n",
              "    }\n",
              "\n",
              "    .dataframe tbody tr th {\n",
              "        vertical-align: top;\n",
              "    }\n",
              "\n",
              "    .dataframe thead th {\n",
              "        text-align: right;\n",
              "    }\n",
              "</style>\n",
              "<table border=\"1\" class=\"dataframe\">\n",
              "  <thead>\n",
              "    <tr style=\"text-align: right;\">\n",
              "      <th></th>\n",
              "      <th>Unnamed: 0</th>\n",
              "      <th>Function</th>\n",
              "      <th>Use</th>\n",
              "      <th>Sharing</th>\n",
              "      <th>Reporting</th>\n",
              "      <th>Student_Type</th>\n",
              "      <th>Position_Type</th>\n",
              "      <th>Object_Type</th>\n",
              "      <th>Pre_K</th>\n",
              "      <th>Operating_Status</th>\n",
              "      <th>Object_Description</th>\n",
              "      <th>Text_2</th>\n",
              "      <th>SubFund_Description</th>\n",
              "      <th>Job_Title_Description</th>\n",
              "      <th>Text_3</th>\n",
              "      <th>Text_4</th>\n",
              "      <th>Sub_Object_Description</th>\n",
              "      <th>Location_Description</th>\n",
              "      <th>FTE</th>\n",
              "      <th>Function_Description</th>\n",
              "      <th>Facility_or_Department</th>\n",
              "      <th>Position_Extra</th>\n",
              "      <th>Total</th>\n",
              "      <th>Program_Description</th>\n",
              "      <th>Fund_Description</th>\n",
              "      <th>Text_1</th>\n",
              "    </tr>\n",
              "  </thead>\n",
              "  <tbody>\n",
              "    <tr>\n",
              "      <th>400272</th>\n",
              "      <td>109283</td>\n",
              "      <td>Professional Development</td>\n",
              "      <td>ISPD</td>\n",
              "      <td>Shared Services</td>\n",
              "      <td>Non-School</td>\n",
              "      <td>Unspecified</td>\n",
              "      <td>Instructional Coach</td>\n",
              "      <td>Other Compensation/Stipend</td>\n",
              "      <td>NO_LABEL</td>\n",
              "      <td>PreK-12 Operating</td>\n",
              "      <td>WORKSHOP PARTICIPANT</td>\n",
              "      <td>NaN</td>\n",
              "      <td>NaN</td>\n",
              "      <td>CURRICULUM RESOURCE TEACHER</td>\n",
              "      <td>NaN</td>\n",
              "      <td>NaN</td>\n",
              "      <td>NaN</td>\n",
              "      <td>STAFF DEV AND INSTR MEDIA</td>\n",
              "      <td>NaN</td>\n",
              "      <td>INST STAFF TRAINING SVCS</td>\n",
              "      <td>NaN</td>\n",
              "      <td>NaN</td>\n",
              "      <td>48.620000</td>\n",
              "      <td>NaN</td>\n",
              "      <td>GENERAL FUND</td>\n",
              "      <td>STAFF DEV AND INSTR MEDIA</td>\n",
              "    </tr>\n",
              "    <tr>\n",
              "      <th>400273</th>\n",
              "      <td>102430</td>\n",
              "      <td>Substitute Compensation</td>\n",
              "      <td>Instruction</td>\n",
              "      <td>School Reported</td>\n",
              "      <td>School</td>\n",
              "      <td>Unspecified</td>\n",
              "      <td>Substitute</td>\n",
              "      <td>Base Salary/Compensation</td>\n",
              "      <td>NO_LABEL</td>\n",
              "      <td>PreK-12 Operating</td>\n",
              "      <td>SALARIES OF PART TIME EMPLOYEE</td>\n",
              "      <td>NaN</td>\n",
              "      <td>FEDERAL GDPG FUND - FY</td>\n",
              "      <td>Teacher,Retrd Shrt Term Sub</td>\n",
              "      <td>Regular</td>\n",
              "      <td>NaN</td>\n",
              "      <td>NaN</td>\n",
              "      <td>NaN</td>\n",
              "      <td>0.00431</td>\n",
              "      <td>TITLE II,D</td>\n",
              "      <td>NaN</td>\n",
              "      <td>PROFESSIONAL-INSTRUCTIONAL</td>\n",
              "      <td>128.824985</td>\n",
              "      <td>INSTRUCTIONAL STAFF TRAINING</td>\n",
              "      <td>NaN</td>\n",
              "      <td>INSTRUCTIONAL STAFF</td>\n",
              "    </tr>\n",
              "    <tr>\n",
              "      <th>400274</th>\n",
              "      <td>413949</td>\n",
              "      <td>Parent &amp; Community Relations</td>\n",
              "      <td>NO_LABEL</td>\n",
              "      <td>School Reported</td>\n",
              "      <td>School</td>\n",
              "      <td>NO_LABEL</td>\n",
              "      <td>Other</td>\n",
              "      <td>NO_LABEL</td>\n",
              "      <td>NO_LABEL</td>\n",
              "      <td>PreK-12 Operating</td>\n",
              "      <td>NaN</td>\n",
              "      <td>NaN</td>\n",
              "      <td>NaN</td>\n",
              "      <td>School Liaison</td>\n",
              "      <td>NaN</td>\n",
              "      <td>NaN</td>\n",
              "      <td>NaN</td>\n",
              "      <td>NaN</td>\n",
              "      <td>1.00000</td>\n",
              "      <td>NaN</td>\n",
              "      <td>NaN</td>\n",
              "      <td>PARENT/TITLE I</td>\n",
              "      <td>4902.290000</td>\n",
              "      <td>Misc</td>\n",
              "      <td>Schoolwide Schools</td>\n",
              "      <td>NaN</td>\n",
              "    </tr>\n",
              "    <tr>\n",
              "      <th>400275</th>\n",
              "      <td>433672</td>\n",
              "      <td>Library &amp; Media</td>\n",
              "      <td>Instruction</td>\n",
              "      <td>School on Central Budgets</td>\n",
              "      <td>Non-School</td>\n",
              "      <td>Unspecified</td>\n",
              "      <td>Librarian</td>\n",
              "      <td>Benefits</td>\n",
              "      <td>NO_LABEL</td>\n",
              "      <td>PreK-12 Operating</td>\n",
              "      <td>EMPLOYEE BENEFITS</td>\n",
              "      <td>EDUCATIONAL RESOURCE SERVICES</td>\n",
              "      <td>LEVY OVERRIDE</td>\n",
              "      <td>Library Technician II</td>\n",
              "      <td>NaN</td>\n",
              "      <td>NaN</td>\n",
              "      <td>NaN</td>\n",
              "      <td>ED RESOURCE SERVICES</td>\n",
              "      <td>NaN</td>\n",
              "      <td>NON-PROJECT</td>\n",
              "      <td>NaN</td>\n",
              "      <td>OFFICE/ADMINISTRATIVE SUPPORT</td>\n",
              "      <td>4020.290000</td>\n",
              "      <td>MEDIA SUPPORT SERVICES</td>\n",
              "      <td>NaN</td>\n",
              "      <td>INSTRUCTIONAL STAFF</td>\n",
              "    </tr>\n",
              "    <tr>\n",
              "      <th>400276</th>\n",
              "      <td>415831</td>\n",
              "      <td>Substitute Compensation</td>\n",
              "      <td>Instruction</td>\n",
              "      <td>School Reported</td>\n",
              "      <td>School</td>\n",
              "      <td>Poverty</td>\n",
              "      <td>Substitute</td>\n",
              "      <td>Substitute Compensation</td>\n",
              "      <td>Non PreK</td>\n",
              "      <td>PreK-12 Operating</td>\n",
              "      <td>Salaries And Wages For Substitute Professionals</td>\n",
              "      <td>NaN</td>\n",
              "      <td>\"Title  Part A Improving Basic Programs\"</td>\n",
              "      <td>TEACHER SUBSTITUTE POOL</td>\n",
              "      <td>NaN</td>\n",
              "      <td>Multilingual Dist Prof Development</td>\n",
              "      <td>Inservice Substitute Teachers Grant Funded</td>\n",
              "      <td>School</td>\n",
              "      <td>NaN</td>\n",
              "      <td>Instruction</td>\n",
              "      <td>Instruction And Curriculum</td>\n",
              "      <td>CERTIFIED SUBSTITUTE</td>\n",
              "      <td>46.530000</td>\n",
              "      <td>Accelerated Education</td>\n",
              "      <td>\"Title  Part A Improving Basic Programs\"</td>\n",
              "      <td>MISCELLANEOUS</td>\n",
              "    </tr>\n",
              "  </tbody>\n",
              "</table>\n",
              "</div>"
            ],
            "text/plain": [
              "        Unnamed: 0  ...                          Text_1\n",
              "400272      109283  ...  STAFF DEV AND INSTR MEDIA     \n",
              "400273      102430  ...             INSTRUCTIONAL STAFF\n",
              "400274      413949  ...                             NaN\n",
              "400275      433672  ...             INSTRUCTIONAL STAFF\n",
              "400276      415831  ...                  MISCELLANEOUS \n",
              "\n",
              "[5 rows x 26 columns]"
            ]
          },
          "metadata": {}
        }
      ]
    },
    {
      "cell_type": "markdown",
      "metadata": {
        "collapsed": false,
        "pycharm": {
          "name": "#%% md\n"
        },
        "id": "bsEDVqyCJBPJ"
      },
      "source": [
        "Some of the column names correspond to features - descriptions of the budget items - such as the Job_Title_Description column. The values in this column tell us if a budget item is for a teacher, custodian, or other employee. Some columns correspond to the budget item labels you will be trying to predict with your model. For example, the Object_Type column describes whether the budget item is related classroom supplies, salary, travel expenses, etc."
      ]
    },
    {
      "cell_type": "markdown",
      "metadata": {
        "collapsed": false,
        "pycharm": {
          "name": "#%% md\n"
        },
        "id": "h6rfpBwZJBPJ"
      },
      "source": [
        "FTE: Stands for \"full-time equivalent\". If the budget item is associated to an employee, this number tells us the percentage of full-time that the employee works. A value of 1 means the associated employee works for the school full-time. A value close to 0 means the item is associated to a part-time or contracted employee. Total: Stands for the total cost of the expenditure. This number tells us how much the budget item cost."
      ]
    },
    {
      "cell_type": "code",
      "metadata": {
        "pycharm": {
          "name": "#%%\n"
        },
        "id": "IFZvcHzEJBPK"
      },
      "source": [
        "for i in range(len(df)):\n",
        "    if df.loc[i,'FTE'] > 1 :\n",
        "        df.loc[i,'FTE'] = df['FTE'].median()\n",
        "    else:\n",
        "        pass"
      ],
      "execution_count": 6,
      "outputs": []
    },
    {
      "cell_type": "code",
      "metadata": {
        "pycharm": {
          "name": "#%%\n"
        },
        "id": "2B_fAXoNJBPL",
        "colab": {
          "base_uri": "https://localhost:8080/",
          "height": 518
        },
        "outputId": "76696a44-3d28-47e9-c2fd-9868d479a245"
      },
      "source": [
        "# Print the summary statistics\n",
        "print(df.describe())\n",
        "# Import matplotlib.pyplot as plt\n",
        "import matplotlib.pyplot as plt\n",
        "# Create the histogram\n",
        "plt.hist(df['FTE'].dropna())\n",
        "# Add title and labels\n",
        "plt.title('Distribution of %full-time \\n employee works')\n",
        "plt.xlabel('% of full-time')\n",
        "plt.ylabel('num employees')\n",
        "# Display the histogram\n",
        "plt.show()"
      ],
      "execution_count": 7,
      "outputs": [
        {
          "output_type": "stream",
          "name": "stdout",
          "text": [
            "          Unnamed: 0            FTE         Total\n",
            "count  400277.000000  126071.000000  3.957220e+05\n",
            "mean   225186.018537       0.399508  1.310586e+04\n",
            "std    130025.142718       0.444498  3.682254e+05\n",
            "min         2.000000      -0.087551 -8.746631e+07\n",
            "25%    112601.000000       0.000792  7.379770e+01\n",
            "50%    225243.000000       0.130927  4.612300e+02\n",
            "75%    337722.000000       1.000000  3.652662e+03\n",
            "max    450340.000000       1.000000  1.297000e+08\n"
          ]
        },
        {
          "output_type": "display_data",
          "data": {
            "image/png": "[encoded data removed]",
            "text/plain": [
              "<Figure size 432x288 with 1 Axes>"
            ]
          },
          "metadata": {
            "needs_background": "light"
          }
        }
      ]
    },
    {
      "cell_type": "code",
      "metadata": {
        "id": "H7aeeBIggewZ"
      },
      "source": [
        ""
      ],
      "execution_count": 7,
      "outputs": []
    },
    {
      "cell_type": "markdown",
      "metadata": {
        "collapsed": false,
        "pycharm": {
          "name": "#%% md\n"
        },
        "id": "pNRDPn1JJBPM"
      },
      "source": [
        "The high variance in expenditures makes sense (some purchases are cheap some are expensive). Also, it looks like the **FTE column is bimodal**. That is, there are some part-time and some full-time employees."
      ]
    },
    {
      "cell_type": "markdown",
      "metadata": {
        "collapsed": false,
        "pycharm": {
          "name": "#%% md\n"
        },
        "id": "gIzSFBEjJBPM"
      },
      "source": [
        "There are 9 columns of labels in the dataset. Each of these columns is a category that has many possible values it can take."
      ]
    },
    {
      "cell_type": "code",
      "metadata": {
        "pycharm": {
          "name": "#%%\n"
        },
        "id": "SjwDp6PQJBPM",
        "colab": {
          "base_uri": "https://localhost:8080/"
        },
        "outputId": "b210b8ed-503c-4eb4-d69d-f6c66412efd7"
      },
      "source": [
        "LABELS = ['Function','Use','Sharing','Reporting','Student_Type','Position_Type','Object_Type','Pre_K','Operating_Status']\n",
        "# Define the lambda function: categorize_label\n",
        "categorize_label = lambda x:x.astype('category')\n",
        "# Convert df[LABELS] to a categorical type\n",
        "df[LABELS] = df[LABELS].apply(categorize_label,axis=0)\n",
        "# Print the converted dtypes\n",
        "print(df[LABELS].dtypes)"
      ],
      "execution_count": 8,
      "outputs": [
        {
          "output_type": "stream",
          "name": "stdout",
          "text": [
            "Function            category\n",
            "Use                 category\n",
            "Sharing             category\n",
            "Reporting           category\n",
            "Student_Type        category\n",
            "Position_Type       category\n",
            "Object_Type         category\n",
            "Pre_K               category\n",
            "Operating_Status    category\n",
            "dtype: object\n"
          ]
        }
      ]
    },
    {
      "cell_type": "markdown",
      "metadata": {
        "collapsed": false,
        "pycharm": {
          "name": "#%% md\n"
        },
        "id": "eLKPpllEJBPN"
      },
      "source": [
        "Observe there are over 100 unique labels"
      ]
    },
    {
      "cell_type": "code",
      "metadata": {
        "pycharm": {
          "name": "#%%\n"
        },
        "id": "KFAM9lrbJBPO",
        "colab": {
          "base_uri": "https://localhost:8080/",
          "height": 356
        },
        "outputId": "aab788a6-7875-4cc8-c8f2-38ba8375f7be"
      },
      "source": [
        "# Calculate number of unique values for each label: num_unique_labels\n",
        "num_unique_labels = df[LABELS].apply(pd.Series.nunique)\n",
        "# Plot number of unique values for each label\n",
        "num_unique_labels.plot(kind = 'bar')\n",
        "# Label the axes\n",
        "plt.xlabel('Labels')\n",
        "plt.ylabel('Number of unique values')\n",
        "# Display the plot\n",
        "plt.show()"
      ],
      "execution_count": 9,
      "outputs": [
        {
          "output_type": "display_data",
          "data": {
            "image/png": "[encoded data removed]",
            "text/plain": [
              "<Figure size 432x288 with 1 Axes>"
            ]
          },
          "metadata": {
            "needs_background": "light"
          }
        }
      ]
    },
    {
      "cell_type": "markdown",
      "metadata": {
        "collapsed": false,
        "pycharm": {
          "name": "#%% md\n"
        },
        "id": "HUFlu4ZZJBPP"
      },
      "source": [
        "We know that log loss metric penalizes highly confident wrong answers much more than any other type"
      ]
    },
    {
      "cell_type": "markdown",
      "metadata": {
        "collapsed": false,
        "pycharm": {
          "name": "#%% md\n"
        },
        "id": "e4lGz9NKJBPP"
      },
      "source": [
        "# I'ts time to build a model.\n",
        " * Always a Good Approach to start with a very simple model\n",
        " * Gives a Sense of how challeging the problem is\n",
        " * We will start with a model on numeric data only\n",
        "    * Want to go from raw data to predictions quickly\n",
        " * With Multiclass Logistic Regression\n",
        "    * Trainin classifier on each label separately and use those to predict\n",
        " * Format predictions and save to a csv\n",
        " * Compute log loss metric"
      ]
    },
    {
      "cell_type": "markdown",
      "metadata": {
        "collapsed": false,
        "pycharm": {
          "name": "#%% md\n"
        },
        "id": "6oGTLoHfJBPQ"
      },
      "source": [
        "## Splitting the multiclass dataset won't work here\n",
        "Some labels only appear in small fraction of the data\n",
        "* If we split up our data randomly it may end up with labels in test set that never appear in training set\n",
        "* Solution: *StratifiedShuffleSplit*\n",
        "    * **Only works with a single target variable**\n",
        "    * We have many target variables\n",
        "    * We will provide a function: *multilabel_train_test_split()*"
      ]
    },
    {
      "cell_type": "markdown",
      "metadata": {
        "collapsed": false,
        "pycharm": {
          "name": "#%% md\n"
        },
        "id": "ZlQMl-d-JBPQ"
      },
      "source": [
        "## Splitting the data"
      ]
    },
    {
      "cell_type": "code",
      "metadata": {
        "pycharm": {
          "name": "#%%\n"
        },
        "id": "nXYwxi_qJBPQ",
        "colab": {
          "base_uri": "https://localhost:8080/"
        },
        "outputId": "e085ca9b-6179-423c-fcc5-cd488cef6ff6"
      },
      "source": [
        "NUMERIC_COLUMNS = df.columns[df.dtypes == 'float' ]\n",
        "from multilabel import multilabel_train_test_split\n",
        "data_to_train = df[NUMERIC_COLUMNS].fillna(-1000)\n",
        "labels_to_use = pd.get_dummies(df[LABELS])\n",
        "X_train,X_test,y_train,y_test = multilabel_train_test_split(data_to_train,labels_to_use,size=0.2,seed=123)\n",
        "print(\"X_train info:\")\n",
        "print(X_train.info())\n",
        "print(\"\\nX_test info:\")\n",
        "print(X_test.info())\n",
        "print(\"\\ny_train info:\")\n",
        "print(y_train.info())\n",
        "print(\"\\ny_test info:\")\n",
        "print(y_test.info())"
      ],
      "execution_count": 10,
      "outputs": [
        {
          "output_type": "stream",
          "name": "stdout",
          "text": [
            "X_train info:\n",
            "<class 'pandas.core.frame.DataFrame'>\n",
            "Int64Index: 320222 entries, 0 to 400276\n",
            "Data columns (total 2 columns):\n",
            " #   Column  Non-Null Count   Dtype  \n",
            "---  ------  --------------   -----  \n",
            " 0   FTE     320222 non-null  float64\n",
            " 1   Total   320222 non-null  float64\n",
            "dtypes: float64(2)\n",
            "memory usage: 7.3 MB\n",
            "None\n",
            "\n",
            "X_test info:\n",
            "<class 'pandas.core.frame.DataFrame'>\n",
            "Int64Index: 80055 entries, 4 to 400274\n",
            "Data columns (total 2 columns):\n",
            " #   Column  Non-Null Count  Dtype  \n",
            "---  ------  --------------  -----  \n",
            " 0   FTE     80055 non-null  float64\n",
            " 1   Total   80055 non-null  float64\n",
            "dtypes: float64(2)\n",
            "memory usage: 1.8 MB\n",
            "None\n",
            "\n",
            "y_train info:\n",
            "<class 'pandas.core.frame.DataFrame'>\n",
            "Int64Index: 320222 entries, 0 to 400276\n",
            "Columns: 104 entries, Function_Aides Compensation to Operating_Status_PreK-12 Operating\n",
            "dtypes: uint8(104)\n",
            "memory usage: 34.2 MB\n",
            "None\n",
            "\n",
            "y_test info:\n",
            "<class 'pandas.core.frame.DataFrame'>\n",
            "Int64Index: 80055 entries, 4 to 400274\n",
            "Columns: 104 entries, Function_Aides Compensation to Operating_Status_PreK-12 Operating\n",
            "dtypes: uint8(104)\n",
            "memory usage: 8.6 MB\n",
            "None\n"
          ]
        }
      ]
    },
    {
      "cell_type": "markdown",
      "metadata": {
        "collapsed": false,
        "pycharm": {
          "name": "#%% md\n"
        },
        "id": "9lqJng1JJBPR"
      },
      "source": [
        "## Training the model"
      ]
    },
    {
      "cell_type": "code",
      "metadata": {
        "pycharm": {
          "name": "#%%\n"
        },
        "id": "jyKqqsqSJBPR",
        "colab": {
          "base_uri": "https://localhost:8080/"
        },
        "outputId": "fa37efc4-76d9-4785-9875-d97995ac73cf"
      },
      "source": [
        "from sklearn.linear_model import LogisticRegression\n",
        "from sklearn.multiclass import OneVsRestClassifier\n",
        "clf = OneVsRestClassifier(LogisticRegression())\n",
        "clf.fit(X_train,y_train)\n",
        "print(\"Accuracy: {}\".format(clf.score(X_test,y_test)))"
      ],
      "execution_count": 11,
      "outputs": [
        {
          "output_type": "stream",
          "name": "stderr",
          "text": [
            "/usr/local/lib/python3.7/dist-packages/sklearn/linear_model/_logistic.py:940: ConvergenceWarning: lbfgs failed to converge (status=1):\n",
            "STOP: TOTAL NO. of ITERATIONS REACHED LIMIT.\n",
            "\n",
            "Increase the number of iterations (max_iter) or scale the data as shown in:\n",
            "    https://scikit-learn.org/stable/modules/preprocessing.html\n",
            "Please also refer to the documentation for alternative solver options:\n",
            "    https://scikit-learn.org/stable/modules/linear_model.html#logistic-regression\n",
            "  extra_warning_msg=_LOGISTIC_SOLVER_CONVERGENCE_MSG)\n"
          ]
        },
        {
          "output_type": "stream",
          "name": "stdout",
          "text": [
            "Accuracy: 0.0\n"
          ]
        }
      ]
    },
    {
      "cell_type": "markdown",
      "metadata": {
        "collapsed": false,
        "pycharm": {
          "name": "#%% md\n"
        },
        "id": "RV1tP2z2JBPR"
      },
      "source": [
        "**OneVsRestClassifier**\n",
        "   * Treats each column of y independently\n",
        "   * Fits a separate classifier for each of the columns"
      ]
    },
    {
      "cell_type": "markdown",
      "metadata": {
        "id": "SQxSZRZDo9dR"
      },
      "source": [
        "Do the predictions"
      ]
    },
    {
      "cell_type": "code",
      "metadata": {
        "id": "OrjxYivgmLeK"
      },
      "source": [
        "holdout = test[NUMERIC_COLUMNS].fillna(-1000)\n",
        "predictions = clf.predict_proba(holdout)"
      ],
      "execution_count": 12,
      "outputs": []
    },
    {
      "cell_type": "code",
      "metadata": {
        "id": "jJbaGQftpBla"
      },
      "source": [
        ""
      ],
      "execution_count": 12,
      "outputs": []
    },
    {
      "cell_type": "markdown",
      "metadata": {
        "id": "4o0Jor06pzxw"
      },
      "source": [
        "Formatting submission"
      ]
    },
    {
      "cell_type": "code",
      "metadata": {
        "id": "It0BMooLp0ZA"
      },
      "source": [
        "prediction_df = pd.DataFrame(columns=pd.get_dummies(df[LABELS], prefix_sep=\"_\").columns,\n",
        "                             index=holdout.index,\n",
        "                             data=predictions)\n",
        "prediction_df.to_csv('predictions.csv')"
      ],
      "execution_count": 13,
      "outputs": []
    },
    {
      "cell_type": "code",
      "metadata": {
        "id": "vgQN0zMqqF8u",
        "colab": {
          "base_uri": "https://localhost:8080/",
          "height": 252
        },
        "outputId": "10d188b5-8a55-4a7c-d29e-7d7e269a809d"
      },
      "source": [
        "from sklearn.metrics import log_loss\n",
        "score = log_loss('predictions.csv')\n",
        "print('Your model, trained with numeric data only, yields logloss score: {}'.format(score))"
      ],
      "execution_count": 14,
      "outputs": [
        {
          "output_type": "error",
          "ename": "TypeError",
          "evalue": "ignored",
          "traceback": [
            "\u001b[0;31m---------------------------------------------------------------------------\u001b[0m",
            "\u001b[0;31mTypeError\u001b[0m                                 Traceback (most recent call last)",
            "\u001b[0;32m<ipython-input-14-3679f566b467>\u001b[0m in \u001b[0;36m<module>\u001b[0;34m()\u001b[0m\n\u001b[1;32m      1\u001b[0m \u001b[0;32mfrom\u001b[0m \u001b[0msklearn\u001b[0m\u001b[0;34m.\u001b[0m\u001b[0mmetrics\u001b[0m \u001b[0;32mimport\u001b[0m \u001b[0mlog_loss\u001b[0m\u001b[0;34m\u001b[0m\u001b[0;34m\u001b[0m\u001b[0m\n\u001b[0;32m----> 2\u001b[0;31m \u001b[0mscore\u001b[0m \u001b[0;34m=\u001b[0m \u001b[0mlog_loss\u001b[0m\u001b[0;34m(\u001b[0m\u001b[0;34m'predictions.csv'\u001b[0m\u001b[0;34m)\u001b[0m\u001b[0;34m\u001b[0m\u001b[0;34m\u001b[0m\u001b[0m\n\u001b[0m\u001b[1;32m      3\u001b[0m \u001b[0mprint\u001b[0m\u001b[0;34m(\u001b[0m\u001b[0;34m'Your model, trained with numeric data only, yields logloss score: {}'\u001b[0m\u001b[0;34m.\u001b[0m\u001b[0mformat\u001b[0m\u001b[0;34m(\u001b[0m\u001b[0mscore\u001b[0m\u001b[0;34m)\u001b[0m\u001b[0;34m)\u001b[0m\u001b[0;34m\u001b[0m\u001b[0;34m\u001b[0m\u001b[0m\n",
            "\u001b[0;31mTypeError\u001b[0m: log_loss() missing 1 required positional argument: 'y_pred'"
          ]
        }
      ]
    },
    {
      "cell_type": "markdown",
      "metadata": {
        "id": "LKhWFhmVdRGO"
      },
      "source": [
        "# A very brief introduction to NLP "
      ]
    },
    {
      "cell_type": "markdown",
      "metadata": {
        "id": "pcxFeBw8dXqv"
      },
      "source": [
        "## Tokenization\n",
        " Tokenization is the process of chopping up a character sequence into pieces called tokens.\n",
        " Often, tokens are separated by whitespace. But we can specify other delimiters as well.\n",
        "\n",
        " https://nlp.stanford.edu/IR-book/html/htmledition/tokenization-1.html\n",
        " \n",
        " Eg: Title I - Disadvantaged Children/Targeted Assistance\n",
        " Has 6 tokens\n"
      ]
    },
    {
      "cell_type": "markdown",
      "metadata": {
        "id": "YJxU-EWTgY9l"
      },
      "source": [
        "# n-grams\n",
        "https://en.wikipedia.org/wiki/N-gram"
      ]
    },
    {
      "cell_type": "markdown",
      "metadata": {
        "id": "1PH-1Mf3hR-b"
      },
      "source": [
        "## Creating a bag of words in scikit learn\n"
      ]
    },
    {
      "cell_type": "code",
      "metadata": {
        "id": "9M9-CaPPe0vL",
        "colab": {
          "base_uri": "https://localhost:8080/"
        },
        "outputId": "313fe189-0ad5-4b7f-fba0-fd8cefbdc1ca"
      },
      "source": [
        "# Import CountVectorizer\n",
        "from sklearn.feature_extraction.text import CountVectorizer\n",
        "# Create the token pattern that splits from spaces: TOKENS_ALPHANUMERIC\n",
        "TOKENS_ALPHANUMERIC = '[A-Za-z0-9]+(?=\\\\s+)'\n",
        "# Fill missing values in df.Position_Extra\n",
        "df.Position_Extra.fillna(\"\", inplace=True)\n",
        "# Instantiate the CountVectorizer: vec_alphanumeric\n",
        "vec_alphanumeric = CountVectorizer(token_pattern = TOKENS_ALPHANUMERIC)\n",
        "# Fit to the data\n",
        "vec_alphanumeric.fit(df.Position_Extra)\n",
        "# Print the number of tokens and first 15 tokens\n",
        "msg = \"There are {} tokens in Position_Extra if we split on non-alpha numeric\"\n",
        "print(msg.format(len(vec_alphanumeric.get_feature_names())))\n",
        "print(vec_alphanumeric.get_feature_names()[:15])"
      ],
      "execution_count": 15,
      "outputs": [
        {
          "output_type": "stream",
          "name": "stdout",
          "text": [
            "There are 385 tokens in Position_Extra if we split on non-alpha numeric\n",
            "['1st', '2nd', '3rd', '4th', '56', '5th', '9th', 'a', 'ab', 'accountability', 'adaptive', 'addit', 'additional', 'adm', 'admin']\n"
          ]
        }
      ]
    },
    {
      "cell_type": "markdown",
      "metadata": {
        "id": "Jv8r4eoOe0Kk"
      },
      "source": [
        "##  Combining text columns for tokenization"
      ]
    },
    {
      "cell_type": "markdown",
      "metadata": {
        "id": "TrnObGugilLx"
      },
      "source": [
        "In order to get a bag-of-words representation for all of the text data in our DataFrame, you must first convert the text data in each row of the DataFrame into a single string.\n",
        "\n",
        "In the previous exercise, this wasn't necessary because you only looked at one column of data, so each row was already just a single string. CountVectorizer expects each row to just be a single string, so in order to use all of the text columns, you'll need a method to turn a list of strings into a single string."
      ]
    },
    {
      "cell_type": "code",
      "metadata": {
        "id": "nF2KmNKSidTL"
      },
      "source": [
        "# Define combine_text_columns()\n",
        "def combine_text_columns(data_frame, to_drop=NUMERIC_COLUMNS.to_list() + LABELS):\n",
        "    \"\"\" converts all text in each row of data_frame to single vector \"\"\"\n",
        "    # Drop non-text columns that are in the df\n",
        "    to_drop = set(to_drop) & set(data_frame.columns.tolist())\n",
        "    text_data = data_frame.drop(to_drop,axis=1)\n",
        "    # Replace nans with blanks\n",
        "    text_data.fillna(\"\",inplace=True)\n",
        "    # Join all text items in a row that have a space in between\n",
        "    return text_data.apply(lambda x: \" \".join(x), axis=1)"
      ],
      "execution_count": 16,
      "outputs": []
    },
    {
      "cell_type": "code",
      "metadata": {
        "id": "o1Q09ZI2sXDY"
      },
      "source": [
        "df.drop('Unnamed: 0',axis=1,inplace=True)\n"
      ],
      "execution_count": 17,
      "outputs": []
    },
    {
      "cell_type": "markdown",
      "metadata": {
        "id": "Ix_IbpIdtfPn"
      },
      "source": [
        "Look at how much tokens and alpha-numeric tokens are in the dataset"
      ]
    },
    {
      "cell_type": "code",
      "metadata": {
        "id": "2BRrlK00kKtR",
        "colab": {
          "base_uri": "https://localhost:8080/"
        },
        "outputId": "d6561898-7b19-428c-f2e4-c44308fac1d7"
      },
      "source": [
        "# Import the CountVectorizer\n",
        "from sklearn.feature_extraction.text import CountVectorizer\n",
        "# Create the basic token pattern\n",
        "TOKENS_BASIC = '\\\\S+(?=\\\\s+)'\n",
        "# Create the alphanumeric token pattern\n",
        "TOKENS_ALPHANUMERIC = '[A-Za-z0-9]+(?=\\\\s+)'\n",
        "# Instantiate basic CountVectorizer: vec_basic\n",
        "vec_basic = CountVectorizer(token_pattern = TOKENS_BASIC)\n",
        "# Instantiate alphanumeric CountVectorizer: vec_alphanumeric\n",
        "vec_alphanumeric = CountVectorizer(token_pattern = TOKENS_ALPHANUMERIC)\n",
        "# Create the text vector\n",
        "text_vector = combine_text_columns(df)\n",
        "# Fit and transform vec_basic\n",
        "vec_basic.fit_transform(text_vector)\n",
        "# Print number of tokens of vec_basic\n",
        "print(\"There are {} tokens in the dataset\".format(len(vec_basic.get_feature_names())))\n",
        "# Fit and transform vec_alphanumeric\n",
        "vec_alphanumeric.fit_transform(text_vector)\n",
        "# Print number of tokens of vec_alphanumeric\n",
        "print(\"There are {} alpha-numeric tokens in the dataset\".format(len(vec_alphanumeric.get_feature_names())))"
      ],
      "execution_count": 18,
      "outputs": [
        {
          "output_type": "stream",
          "name": "stdout",
          "text": [
            "There are 4757 tokens in the dataset\n",
            "There are 3284 alpha-numeric tokens in the dataset\n"
          ]
        }
      ]
    },
    {
      "cell_type": "markdown",
      "metadata": {
        "id": "5L6VFGKrx87x"
      },
      "source": [
        "Remember: Any step in the pipeline must be an object that implements the fit and transform methods. The **FunctionTransformer** creates an object with these methods out of any Python function that you pass to it. We'll use it to help select subsets of data in a way that plays nicely with pipelines.\n",
        "\n",
        "We are working with numeric data that needs imputation, and text data that needs to be converted into a bag-of-words.\n",
        "\n",
        "Using **Multiple types of processing: FeatureUnion**"
      ]
    },
    {
      "cell_type": "markdown",
      "metadata": {
        "id": "fxbrM1UbzDDz"
      },
      "source": [
        "## Using FunctionTransformer on the main dataset"
      ]
    },
    {
      "cell_type": "code",
      "metadata": {
        "id": "HPYcEWFvtlGt"
      },
      "source": [
        "# Import FunctionTransformer\n",
        "from sklearn.preprocessing import FunctionTransformer\n",
        "\n",
        "# Get the dummy encoding of the labels\n",
        "\n",
        "dummy_labels = pd.get_dummies(df[LABELS])\n",
        "\n",
        "# Get the columns that are features in the original df\n",
        "NON_LABELS = [c for c in df.columns if c not in LABELS]\n",
        "\n",
        "# Split into training and test sets\n",
        "X_train, X_test, y_train, y_test = multilabel_train_test_split(df[NON_LABELS],\n",
        "                                                               dummy_labels,\n",
        "                                                               0.2, \n",
        "                                                               seed=123)\n",
        "\n",
        "# Preprocess the text data: get_text_data\n",
        "get_text_data = FunctionTransformer(combine_text_columns,validate=False)\n",
        "\n",
        "# Preprocess the numeric data: get_numeric_data\n",
        "get_numeric_data = FunctionTransformer(lambda x:x[NUMERIC_COLUMNS], validate=False)"
      ],
      "execution_count": 19,
      "outputs": []
    },
    {
      "cell_type": "markdown",
      "metadata": {
        "id": "dTgAGi701XjY"
      },
      "source": [
        "## Add a model to the pipeline"
      ]
    },
    {
      "cell_type": "markdown",
      "metadata": {
        "id": "QIQ6hZBY1fkQ"
      },
      "source": [
        "* The preprocessing step uses FeatureUnion to join the results of nested pipelines that each rely on FunctionTransformer to select multiple datatypes\n",
        "* The model step stores the model object\n"
      ]
    },
    {
      "cell_type": "code",
      "metadata": {
        "id": "5ChyiWJe1bYw",
        "colab": {
          "base_uri": "https://localhost:8080/"
        },
        "outputId": "64b9a212-f9e2-4e78-9c4e-6a3414626f33"
      },
      "source": [
        "from sklearn.pipeline import Pipeline, FeatureUnion\n",
        "from sklearn.impute import SimpleImputer\n",
        "# Complete the pipeline: pl\n",
        "pl = Pipeline([\n",
        "        ('union', FeatureUnion(\n",
        "            transformer_list = [\n",
        "                ('numeric_features', Pipeline([\n",
        "                    ('selector', get_numeric_data),\n",
        "                    ('imputer',SimpleImputer())\n",
        "                ])),\n",
        "                ('text_features', Pipeline([\n",
        "                    ('selector',get_text_data),\n",
        "                    ('vectorizer',CountVectorizer())\n",
        "                ]))\n",
        "             ]\n",
        "        )),\n",
        "        ('clf', OneVsRestClassifier(LogisticRegression()))\n",
        "    ])\n",
        "\n",
        "# Fit to the training data\n",
        "pl.fit(X_train,y_train)\n",
        "\n",
        "# Compute and print accuracy\n",
        "accuracy = pl.score(X_test, y_test)\n",
        "print(\"\\nAccuracy on budget dataset: \", accuracy)"
      ],
      "execution_count": 20,
      "outputs": [
        {
          "output_type": "stream",
          "name": "stderr",
          "text": [
            "/usr/local/lib/python3.7/dist-packages/sklearn/linear_model/_logistic.py:940: ConvergenceWarning: lbfgs failed to converge (status=1):\n",
            "STOP: TOTAL NO. of ITERATIONS REACHED LIMIT.\n",
            "\n",
            "Increase the number of iterations (max_iter) or scale the data as shown in:\n",
            "    https://scikit-learn.org/stable/modules/preprocessing.html\n",
            "Please also refer to the documentation for alternative solver options:\n",
            "    https://scikit-learn.org/stable/modules/linear_model.html#logistic-regression\n",
            "  extra_warning_msg=_LOGISTIC_SOLVER_CONVERGENCE_MSG)\n",
            "/usr/local/lib/python3.7/dist-packages/sklearn/linear_model/_logistic.py:940: ConvergenceWarning: lbfgs failed to converge (status=1):\n",
            "STOP: TOTAL NO. of ITERATIONS REACHED LIMIT.\n",
            "\n",
            "Increase the number of iterations (max_iter) or scale the data as shown in:\n",
            "    https://scikit-learn.org/stable/modules/preprocessing.html\n",
            "Please also refer to the documentation for alternative solver options:\n",
            "    https://scikit-learn.org/stable/modules/linear_model.html#logistic-regression\n",
            "  extra_warning_msg=_LOGISTIC_SOLVER_CONVERGENCE_MSG)\n"
          ]
        },
        {
          "output_type": "stream",
          "name": "stdout",
          "text": [
            "\n",
            "Accuracy on budget dataset:  2.4982824308288053e-05\n"
          ]
        }
      ]
    },
    {
      "cell_type": "markdown",
      "metadata": {
        "id": "psSNixoF2aki"
      },
      "source": [
        "## Try a different class of model\n",
        "\n",
        "One of the great strengths of pipelines is how easy they make the process of testing different models. You just have a simple one-line change, as you'll see in this exercise.\n",
        "\n",
        "We'll try now an ensemble model: **Random Forest Classifier**\n",
        "\n",
        "\n"
      ]
    },
    {
      "cell_type": "markdown",
      "metadata": {
        "id": "olVwyIoLmr8S"
      },
      "source": [
        "**Note:** Google Collab can't handle this model and we can't display in the notebook, you can try it in local if you *want*"
      ]
    },
    {
      "cell_type": "code",
      "metadata": {
        "id": "rtQbd26u2xUX"
      },
      "source": [
        "# Import random forest classifer\n",
        "from sklearn.ensemble import RandomForestClassifier\n",
        "\n",
        "# Edit model step in pipeline\n",
        "pl = Pipeline([\n",
        "        ('union', FeatureUnion(\n",
        "            transformer_list = [\n",
        "                ('numeric_features', Pipeline([\n",
        "                    ('selector', get_numeric_data),\n",
        "                    ('imputer', SimpleImputer())\n",
        "                ])),\n",
        "                ('text_features', Pipeline([\n",
        "                    ('selector', get_text_data),\n",
        "                    ('vectorizer', CountVectorizer())\n",
        "                ]))\n",
        "             ]\n",
        "        )),\n",
        "        ('clf',RandomForestClassifier())\n",
        "    ])\n",
        "\n",
        "# Fit to the training data\n",
        "pl.fit(X_train, y_train)\n",
        "\n",
        "# Compute and print accuracy\n",
        "accuracy = pl.score(X_test, y_test)\n",
        "print(\"\\nAccuracy on budget dataset: \", accuracy)"
      ],
      "execution_count": null,
      "outputs": []
    },
    {
      "cell_type": "markdown",
      "metadata": {
        "id": "uyTHkQKk3KTW"
      },
      "source": [
        "## Can we adjust the model or parameters to improve accuracy?\n",
        "\n",
        "We're gonna change the parameter n_estimators of RandomForestClassifier(), whose default value is 10, to 15."
      ]
    },
    {
      "cell_type": "markdown",
      "metadata": {
        "id": "_m6anjWsm0Qd"
      },
      "source": [
        "**Note:** Google Collab can't handle this model and we can't display in the notebook, you can try it in local if you *want*"
      ]
    },
    {
      "cell_type": "code",
      "metadata": {
        "id": "sXUHqa_C3S82"
      },
      "source": [
        "# Import RandomForestClassifier\n",
        "from sklearn.ensemble import RandomForestClassifier\n",
        "\n",
        "# Add model step to pipeline: pl\n",
        "pl = Pipeline([\n",
        "        ('union', FeatureUnion(\n",
        "            transformer_list = [\n",
        "                ('numeric_features', Pipeline([\n",
        "                    ('selector', get_numeric_data),\n",
        "                    ('imputer', SimpleImputer())\n",
        "                ])),\n",
        "                ('text_features', Pipeline([\n",
        "                    ('selector', get_text_data),\n",
        "                    ('vectorizer', CountVectorizer())\n",
        "                ]))\n",
        "             ]\n",
        "        )),\n",
        "        ('clf', RandomForestClassifier(n_estimators=15))\n",
        "    ])\n",
        "\n",
        "# Fit to the training data\n",
        "pl.fit(X_train, y_train)\n",
        "\n",
        "# Compute and print accuracy\n",
        "accuracy = pl.score(X_test, y_test)\n",
        "print(\"\\nAccuracy on budget dataset: \", accuracy)"
      ],
      "execution_count": null,
      "outputs": []
    },
    {
      "cell_type": "markdown",
      "metadata": {
        "id": "xLmcdWzDhnLd"
      },
      "source": [
        "# How many tokens?\n",
        "\n",
        "Recall from previous cells that how we tokenize text affects the n-gram statistics used in your model.\n",
        "\n",
        "\n",
        "Going forward, we'll use alpha-numeric sequences, and only alpha-numeric sequences, as tokens. Alpha-numeric tokens contain only letters a-z and numbers 0-9 (no other characters). In other words, we'll tokenize on punctuation to generate n-gram statistics.\n"
      ]
    },
    {
      "cell_type": "markdown",
      "metadata": {
        "id": "6OO_TJfsiQNl"
      },
      "source": [
        "## Deciding what's a word\n",
        "\n",
        "Before we build up to the winning pipeline, it will be useful to look a little deeper into how the text features will be processed.\n",
        "\n",
        "Here, we will use CountVectorizer on the training data X_train to see the effect of tokenization on punctuation.\n",
        "\n"
      ]
    },
    {
      "cell_type": "code",
      "metadata": {
        "id": "rDjihb_PhlhF",
        "colab": {
          "base_uri": "https://localhost:8080/"
        },
        "outputId": "cf1c0d34-a63c-4c43-e4c1-fd962222884e"
      },
      "source": [
        "# Import the CountVectorizer\n",
        "from sklearn.feature_extraction.text import CountVectorizer\n",
        "\n",
        "# Create the text vector\n",
        "text_vector = combine_text_columns(X_train)\n",
        "\n",
        "# Create the token pattern: TOKENS_ALPHANUMERIC\n",
        "TOKENS_ALPHANUMERIC = '[A-Za-z0-9]+(?=\\\\s+)'\n",
        "\n",
        "# Instantiate the CountVectorizer: text_features\n",
        "text_features = CountVectorizer(token_pattern = TOKENS_ALPHANUMERIC)\n",
        "\n",
        "# Fit text_features to the text vector\n",
        "text_features.fit(text_vector)\n",
        "\n",
        "# Print the first 10 tokens\n",
        "print(text_features.get_feature_names()[:10])"
      ],
      "execution_count": 21,
      "outputs": [
        {
          "output_type": "stream",
          "name": "stdout",
          "text": [
            "['00a', '12', '1st', '2nd', '3rd', '4th', '5', '56', '5th', '6']\n"
          ]
        }
      ]
    },
    {
      "cell_type": "markdown",
      "metadata": {
        "id": "1ZeVzEktlmHT"
      },
      "source": [
        "## N-gram range in scikit-learn\n",
        "\n",
        "In this exercise we'll insert a CountVectorizer instance into the pipeline for the main dataset, and compute multiple n-gram features to be used in the model.\n",
        "\n",
        "In order to look for ngram relationships at multiple scales, we will use the ngram_range parameter."
      ]
    },
    {
      "cell_type": "markdown",
      "metadata": {
        "id": "Kb8ihn3_l5qX"
      },
      "source": [
        "**Note:** We added a couple of new steps provided in the pipeline: *dim_red* and *scale*\n",
        "\n",
        "The *dim_red* step uses a scikit-learn function called SelectKBest(), applying something called the chi-squared test to select the K \"best\" features. \n",
        "\n",
        "The *scale* step uses a scikit-learn function called MaxAbsScaler() in order to squash the relevant features into the interval -1 to 1. "
      ]
    },
    {
      "cell_type": "code",
      "metadata": {
        "id": "eDBiG9xY3Ezg"
      },
      "source": [
        "# Import pipeline\n",
        "from sklearn.pipeline import Pipeline\n",
        "\n",
        "# Import classifiers\n",
        "from sklearn.linear_model import LogisticRegression\n",
        "from sklearn.multiclass import OneVsRestClassifier\n",
        "\n",
        "# Import CountVectorizer\n",
        "\n",
        "from sklearn.feature_extraction.text import CountVectorizer\n",
        "\n",
        "# Import other preprocessing modules\n",
        "from sklearn.impute import SimpleImputer\n",
        "from sklearn.feature_selection import chi2, SelectKBest\n",
        "\n",
        "# Select 300 best features\n",
        "chi_k = 300\n",
        "\n",
        "# Import functional utilities\n",
        "from sklearn.preprocessing import FunctionTransformer, MaxAbsScaler\n",
        "from sklearn.pipeline import FeatureUnion\n",
        "\n",
        "# Perform preprocessing\n",
        "get_text_data = FunctionTransformer(combine_text_columns, validate=False)\n",
        "get_numeric_data = FunctionTransformer(lambda x: x[NUMERIC_COLUMNS], validate=False)\n",
        "\n",
        "# Create the token pattern: TOKENS_ALPHANUMERIC\n",
        "TOKENS_ALPHANUMERIC = '[A-Za-z0-9]+(?=\\\\s+)'\n",
        "\n",
        "# Instantiate pipeline: pl\n",
        "pl = Pipeline([\n",
        "        ('union', FeatureUnion(\n",
        "            transformer_list = [\n",
        "                ('numeric_features', Pipeline([\n",
        "                    ('selector', get_numeric_data),\n",
        "                    ('imputer', SimpleImputer())\n",
        "                ])),\n",
        "                ('text_features', Pipeline([\n",
        "                    ('selector', get_text_data),\n",
        "                    ('vectorizer', CountVectorizer(token_pattern=TOKENS_ALPHANUMERIC,\n",
        "                                                   ngram_range=(1,2))),\n",
        "                    ('dim_red', SelectKBest(chi2, chi_k))\n",
        "                ]))\n",
        "             ]\n",
        "        )),\n",
        "        ('scale', MaxAbsScaler()),\n",
        "        ('clf', OneVsRestClassifier(LogisticRegression()))\n",
        "    ])"
      ],
      "execution_count": 25,
      "outputs": []
    },
    {
      "cell_type": "markdown",
      "metadata": {
        "id": "qyIC7VgdpbzO"
      },
      "source": [
        "## Implement interaction modeling in scikit-learn\n",
        "\n",
        "It's time to add interaction features to the model. \n",
        "\n",
        "The *PolynomialFeatures* object in scikit-learn does just that, but here we're going to use a custom interaction object, SparseInteractions. \n",
        "\n",
        "**Interaction terms are a statistical tool that lets your model express what happens if two features appear together in the same row.**\n"
      ]
    },
    {
      "cell_type": "markdown",
      "metadata": {
        "id": "vHlX5cwNqq5Y"
      },
      "source": [
        "** SparseInteractions ** does the same thing as PolynomialFeatures, but it uses sparse matrices to do so.\n"
      ]
    },
    {
      "cell_type": "code",
      "metadata": {
        "id": "zglbpKKsqnhn"
      },
      "source": [
        "from SparseInteractions import *\n",
        "# Instantiate pipeline: pl\n",
        "pl = Pipeline([\n",
        "        ('union', FeatureUnion(\n",
        "            transformer_list = [\n",
        "                ('numeric_features', Pipeline([\n",
        "                    ('selector', get_numeric_data),\n",
        "                    ('imputer', SimpleImputer())\n",
        "                ])),\n",
        "                ('text_features', Pipeline([\n",
        "                    ('selector', get_text_data),\n",
        "                    ('vectorizer', CountVectorizer(token_pattern=TOKENS_ALPHANUMERIC,\n",
        "                                                   ngram_range=(1, 2))),  \n",
        "                    ('dim_red', SelectKBest(chi2, chi_k))\n",
        "                ]))\n",
        "             ]\n",
        "        )),\n",
        "        ('int',SparseInteractions(degree=2)),\n",
        "        ('scale', MaxAbsScaler()),\n",
        "        ('clf', OneVsRestClassifier(LogisticRegression()))\n",
        "    ])"
      ],
      "execution_count": 28,
      "outputs": []
    },
    {
      "cell_type": "markdown",
      "metadata": {
        "id": "RWchXB7psdqH"
      },
      "source": [
        "## Why is hashing a useful trick?\n",
        "\n",
        "\n",
        "A hash function takes an input, in our case a token, and outputs a hash value. For example, the input may be a string and the hash value may be an integer.\n",
        "\n",
        "E.g. {'and': 780, 'fluids': 354, 'fuel': 895, 'petro': 354, 'vend': 785}\n",
        "\n",
        "**In fact, python dictionaries ARE hash tables!**\n",
        "\n",
        "By explicitly stating how many possible outputs the hashing function may have, we limit the size of the objects that need to be processed. With these limits known, computation can be made more efficient and we can get results faster, even on large datasets.\n"
      ]
    },
    {
      "cell_type": "markdown",
      "metadata": {
        "id": "W65Fc9Hzs-S0"
      },
      "source": [
        "**HashingVectorizer** acts just like **CountVectorizer** in that it can accept *token_pattern* and *ngram_range* parameters. The important difference is that it creates hash values from the text, so that we get all the computational advantages of hashing!"
      ]
    },
    {
      "cell_type": "code",
      "metadata": {
        "colab": {
          "base_uri": "https://localhost:8080/"
        },
        "id": "X98lJ96GskJR",
        "outputId": "5e36a417-d2a7-4cde-a7e3-b96f517c8225"
      },
      "source": [
        "# Import HashingVectorizer\n",
        "from sklearn.feature_extraction.text import HashingVectorizer\n",
        "\n",
        "# Get text data: text_data\n",
        "text_data = combine_text_columns(X_train)\n",
        "\n",
        "# Create the token pattern: TOKENS_ALPHANUMERIC\n",
        "TOKENS_ALPHANUMERIC = '[A-Za-z0-9]+(?=\\\\s+)' \n",
        "\n",
        "# Instantiate the HashingVectorizer: hashing_vec\n",
        "hashing_vec = HashingVectorizer(token_pattern = TOKENS_ALPHANUMERIC)\n",
        "\n",
        "# Fit and transform the Hashing Vectorizer\n",
        "hashed_text = hashing_vec.fit_transform(text_data)\n",
        "\n",
        "# Create DataFrame and print the head\n",
        "hashed_df = pd.DataFrame(hashed_text.data)\n",
        "print(hashed_df.head())"
      ],
      "execution_count": 32,
      "outputs": [
        {
          "output_type": "stream",
          "name": "stdout",
          "text": [
            "          0\n",
            "0  0.377964\n",
            "1  0.755929\n",
            "2  0.377964\n",
            "3  0.377964\n",
            "4  0.200000\n"
          ]
        }
      ]
    },
    {
      "cell_type": "markdown",
      "metadata": {
        "id": "pzRwmSvztt5J"
      },
      "source": [
        "## Build the Winning Model!\n",
        "\n",
        "The parameters non_negative=True, norm=None, and binary=False make the HashingVectorizer perform similarly to the default settings on the CountVectorizer so you can just replace one with the other."
      ]
    },
    {
      "cell_type": "code",
      "metadata": {
        "id": "2P7QjR3ktr_x"
      },
      "source": [
        "# Import the hashing vectorizer\n",
        "from sklearn.feature_extraction.text import HashingVectorizer\n",
        "\n",
        "# Instantiate the winning model pipeline: pl\n",
        "pl = Pipeline([\n",
        "        ('union', FeatureUnion(\n",
        "            transformer_list = [\n",
        "                ('numeric_features', Pipeline([\n",
        "                    ('selector', get_numeric_data),\n",
        "                    ('imputer', SimpleImputer())\n",
        "                ])),\n",
        "                ('text_features', Pipeline([\n",
        "                    ('selector', get_text_data),\n",
        "                    ('vectorizer',HashingVectorizer(token_pattern=TOKENS_ALPHANUMERIC,\n",
        "                                                      norm=None, binary=False,\n",
        "                                                     ngram_range=(1,2))),\n",
        "                    ('dim_red', SelectKBest(chi2, chi_k))\n",
        "                ]))\n",
        "             ]\n",
        "        )),\n",
        "        ('int', SparseInteractions(degree=2)),\n",
        "        ('scale', MaxAbsScaler()),\n",
        "        ('clf', OneVsRestClassifier(LogisticRegression()))\n",
        "    ])"
      ],
      "execution_count": 41,
      "outputs": []
    },
    {
      "cell_type": "markdown",
      "metadata": {
        "id": "oQueavLTujrg"
      },
      "source": [
        "https://github.com/datacamp/course-resources-ml-with-experts-budgets/blob/master/notebooks/1.0-full-model.ipynb\n"
      ]
    }
  ]
}