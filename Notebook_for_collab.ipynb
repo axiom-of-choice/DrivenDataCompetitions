{
  "nbformat": 4,
  "nbformat_minor": 0,
  "metadata": {
    "kernelspec": {
      "display_name": "Python 3",
      "language": "python",
      "name": "python3"
    },
    "language_info": {
      "codemirror_mode": {
        "name": "ipython",
        "version": 2
      },
      "file_extension": ".py",
      "mimetype": "text/x-python",
      "name": "python",
      "nbconvert_exporter": "python",
      "pygments_lexer": "ipython2",
      "version": "2.7.6"
    },
    "colab": {
      "name": "Notebook for collab.ipynb",
      "provenance": [],
      "collapsed_sections": [],
      "include_colab_link": true
    }
  },
  "cells": [
    {
      "cell_type": "markdown",
      "metadata": {
        "id": "view-in-github",
        "colab_type": "text"
      },
      "source": [
        "<a href=\"https://colab.research.google.com/github/axiom-of-choice/DrivenDataCompetitions/blob/master/Notebook_for_collab.ipynb\" target=\"_parent\"><img src=\"https://colab.research.google.com/assets/colab-badge.svg\" alt=\"Open In Colab\"/></a>"
      ]
    },
    {
      "cell_type": "markdown",
      "metadata": {
        "collapsed": true,
        "pycharm": {
          "name": "#%% md\n"
        },
        "id": "qrYe-X0IJBPA"
      },
      "source": [
        "# This notebook contains my notebook for the Box-Plots for Education competition"
      ]
    },
    {
      "cell_type": "markdown",
      "metadata": {
        "collapsed": false,
        "pycharm": {
          "name": "#%% md\n"
        },
        "id": "bOS1GzmKJBPE"
      },
      "source": [
        "The data can be found here : https://www.drivendata.org/competitions/46/box-plots-for-education-reboot/"
      ]
    },
    {
      "cell_type": "code",
      "metadata": {
        "pycharm": {
          "name": "#%%\n"
        },
        "id": "HppWquFhJBPF"
      },
      "source": [
        "#import pandas as pd\n",
        "#path = \"../../datasets/\"\n",
        "#train = pd.read_csv(path + \"TrainingData.csv\")\n",
        "#test = pd.read_csv(path + \"TestData.csv\")\n",
        "#format = pd.read_csv(path + \"SubmissionFormat.csv\")\n",
        "#df = train"
      ],
      "execution_count": 30,
      "outputs": []
    },
    {
      "cell_type": "code",
      "metadata": {
        "id": "xl5r3e6TK6NL"
      },
      "source": [
        ""
      ],
      "execution_count": 18,
      "outputs": []
    },
    {
      "cell_type": "code",
      "metadata": {
        "colab": {
          "base_uri": "https://localhost:8080/"
        },
        "id": "6luSJkgEK6nA",
        "outputId": "f38be261-7378-4b7a-c825-e7d33c7196be"
      },
      "source": [
        "from google.colab import drive\n",
        "drive.mount('/content/drive')"
      ],
      "execution_count": 19,
      "outputs": [
        {
          "output_type": "stream",
          "name": "stdout",
          "text": [
            "Drive already mounted at /content/drive; to attempt to forcibly remount, call drive.mount(\"/content/drive\", force_remount=True).\n"
          ]
        }
      ]
    },
    {
      "cell_type": "code",
      "metadata": {
        "colab": {
          "base_uri": "https://localhost:8080/",
          "height": 35
        },
        "id": "xs0y72mELC6e",
        "outputId": "ea598d74-0bab-4a02-f1dd-d65592496953"
      },
      "source": [
        "import os \n",
        "os.getcwd()"
      ],
      "execution_count": 20,
      "outputs": [
        {
          "output_type": "execute_result",
          "data": {
            "application/vnd.google.colaboratory.intrinsic+json": {
              "type": "string"
            },
            "text/plain": [
              "'/content/drive/My Drive/datasets'"
            ]
          },
          "metadata": {},
          "execution_count": 20
        }
      ]
    },
    {
      "cell_type": "code",
      "metadata": {
        "id": "Ce9rKJJALbCy"
      },
      "source": [
        "os.chdir('/content/drive/My Drive/datasets')"
      ],
      "execution_count": 21,
      "outputs": []
    },
    {
      "cell_type": "code",
      "metadata": {
        "colab": {
          "base_uri": "https://localhost:8080/"
        },
        "id": "VAOS6fIvMAWw",
        "outputId": "809212bc-58c3-4cd7-b61a-635b50a45c3e"
      },
      "source": [
        "import pandas as pd \n",
        "train = pd.read_csv(\"TrainingData.csv\")\n",
        "test = pd.read_csv(\"TestData.csv\")\n",
        "format = pd.read_csv(\"SubmissionFormat.csv\")\n",
        "df = train"
      ],
      "execution_count": 22,
      "outputs": [
        {
          "output_type": "stream",
          "name": "stderr",
          "text": [
            "/usr/local/lib/python3.7/dist-packages/IPython/core/interactiveshell.py:2718: DtypeWarning: Columns (5,11) have mixed types.Specify dtype option on import or set low_memory=False.\n",
            "  interactivity=interactivity, compiler=compiler, result=result)\n"
          ]
        }
      ]
    },
    {
      "cell_type": "markdown",
      "metadata": {
        "collapsed": false,
        "pycharm": {
          "name": "#%% md\n"
        },
        "id": "ntzUr6ETJBPH"
      },
      "source": [
        "Exploratory Data Analysis"
      ]
    },
    {
      "cell_type": "code",
      "metadata": {
        "pycharm": {
          "name": "#%%\n"
        },
        "id": "C--_bT8kJBPI",
        "colab": {
          "base_uri": "https://localhost:8080/",
          "height": 1000
        },
        "outputId": "108f4fc7-319d-4aa9-9551-dd9b7f249aa5"
      },
      "source": [
        "display(train.info())\n",
        "display(train.head())\n",
        "display(train.tail())"
      ],
      "execution_count": 23,
      "outputs": [
        {
          "output_type": "stream",
          "name": "stdout",
          "text": [
            "<class 'pandas.core.frame.DataFrame'>\n",
            "RangeIndex: 400277 entries, 0 to 400276\n",
            "Data columns (total 26 columns):\n",
            " #   Column                  Non-Null Count   Dtype  \n",
            "---  ------                  --------------   -----  \n",
            " 0   Unnamed: 0              400277 non-null  int64  \n",
            " 1   Function                400277 non-null  object \n",
            " 2   Use                     400277 non-null  object \n",
            " 3   Sharing                 400277 non-null  object \n",
            " 4   Reporting               400277 non-null  object \n",
            " 5   Student_Type            400277 non-null  object \n",
            " 6   Position_Type           400277 non-null  object \n",
            " 7   Object_Type             400277 non-null  object \n",
            " 8   Pre_K                   400277 non-null  object \n",
            " 9   Operating_Status        400277 non-null  object \n",
            " 10  Object_Description      375493 non-null  object \n",
            " 11  Text_2                  88217 non-null   object \n",
            " 12  SubFund_Description     306855 non-null  object \n",
            " 13  Job_Title_Description   292743 non-null  object \n",
            " 14  Text_3                  109152 non-null  object \n",
            " 15  Text_4                  53746 non-null   object \n",
            " 16  Sub_Object_Description  91603 non-null   object \n",
            " 17  Location_Description    162054 non-null  object \n",
            " 18  FTE                     126071 non-null  float64\n",
            " 19  Function_Description    342195 non-null  object \n",
            " 20  Facility_or_Department  53886 non-null   object \n",
            " 21  Position_Extra          264764 non-null  object \n",
            " 22  Total                   395722 non-null  float64\n",
            " 23  Program_Description     304660 non-null  object \n",
            " 24  Fund_Description        202877 non-null  object \n",
            " 25  Text_1                  292285 non-null  object \n",
            "dtypes: float64(2), int64(1), object(23)\n",
            "memory usage: 79.4+ MB\n"
          ]
        },
        {
          "output_type": "display_data",
          "data": {
            "text/plain": [
              "None"
            ]
          },
          "metadata": {}
        },
        {
          "output_type": "display_data",
          "data": {
            "text/html": [
              "<div>\n",
              "<style scoped>\n",
              "    .dataframe tbody tr th:only-of-type {\n",
              "        vertical-align: middle;\n",
              "    }\n",
              "\n",
              "    .dataframe tbody tr th {\n",
              "        vertical-align: top;\n",
              "    }\n",
              "\n",
              "    .dataframe thead th {\n",
              "        text-align: right;\n",
              "    }\n",
              "</style>\n",
              "<table border=\"1\" class=\"dataframe\">\n",
              "  <thead>\n",
              "    <tr style=\"text-align: right;\">\n",
              "      <th></th>\n",
              "      <th>Unnamed: 0</th>\n",
              "      <th>Function</th>\n",
              "      <th>Use</th>\n",
              "      <th>Sharing</th>\n",
              "      <th>Reporting</th>\n",
              "      <th>Student_Type</th>\n",
              "      <th>Position_Type</th>\n",
              "      <th>Object_Type</th>\n",
              "      <th>Pre_K</th>\n",
              "      <th>Operating_Status</th>\n",
              "      <th>Object_Description</th>\n",
              "      <th>Text_2</th>\n",
              "      <th>SubFund_Description</th>\n",
              "      <th>Job_Title_Description</th>\n",
              "      <th>Text_3</th>\n",
              "      <th>Text_4</th>\n",
              "      <th>Sub_Object_Description</th>\n",
              "      <th>Location_Description</th>\n",
              "      <th>FTE</th>\n",
              "      <th>Function_Description</th>\n",
              "      <th>Facility_or_Department</th>\n",
              "      <th>Position_Extra</th>\n",
              "      <th>Total</th>\n",
              "      <th>Program_Description</th>\n",
              "      <th>Fund_Description</th>\n",
              "      <th>Text_1</th>\n",
              "    </tr>\n",
              "  </thead>\n",
              "  <tbody>\n",
              "    <tr>\n",
              "      <th>0</th>\n",
              "      <td>134338</td>\n",
              "      <td>Teacher Compensation</td>\n",
              "      <td>Instruction</td>\n",
              "      <td>School Reported</td>\n",
              "      <td>School</td>\n",
              "      <td>NO_LABEL</td>\n",
              "      <td>Teacher</td>\n",
              "      <td>NO_LABEL</td>\n",
              "      <td>NO_LABEL</td>\n",
              "      <td>PreK-12 Operating</td>\n",
              "      <td>NaN</td>\n",
              "      <td>NaN</td>\n",
              "      <td>NaN</td>\n",
              "      <td>Teacher-Elementary</td>\n",
              "      <td>NaN</td>\n",
              "      <td>NaN</td>\n",
              "      <td>NaN</td>\n",
              "      <td>NaN</td>\n",
              "      <td>1.0</td>\n",
              "      <td>NaN</td>\n",
              "      <td>NaN</td>\n",
              "      <td>KINDERGARTEN</td>\n",
              "      <td>50471.810</td>\n",
              "      <td>KINDERGARTEN</td>\n",
              "      <td>General Fund</td>\n",
              "      <td>NaN</td>\n",
              "    </tr>\n",
              "    <tr>\n",
              "      <th>1</th>\n",
              "      <td>206341</td>\n",
              "      <td>NO_LABEL</td>\n",
              "      <td>NO_LABEL</td>\n",
              "      <td>NO_LABEL</td>\n",
              "      <td>NO_LABEL</td>\n",
              "      <td>NO_LABEL</td>\n",
              "      <td>NO_LABEL</td>\n",
              "      <td>NO_LABEL</td>\n",
              "      <td>NO_LABEL</td>\n",
              "      <td>Non-Operating</td>\n",
              "      <td>CONTRACTOR SERVICES</td>\n",
              "      <td>BOND EXPENDITURES</td>\n",
              "      <td>BUILDING FUND</td>\n",
              "      <td>(blank)</td>\n",
              "      <td>Regular</td>\n",
              "      <td>NaN</td>\n",
              "      <td>NaN</td>\n",
              "      <td>NaN</td>\n",
              "      <td>NaN</td>\n",
              "      <td>RGN  GOB</td>\n",
              "      <td>NaN</td>\n",
              "      <td>UNDESIGNATED</td>\n",
              "      <td>3477.860</td>\n",
              "      <td>BUILDING IMPROVEMENT SERVICES</td>\n",
              "      <td>NaN</td>\n",
              "      <td>BUILDING IMPROVEMENT SERVICES</td>\n",
              "    </tr>\n",
              "    <tr>\n",
              "      <th>2</th>\n",
              "      <td>326408</td>\n",
              "      <td>Teacher Compensation</td>\n",
              "      <td>Instruction</td>\n",
              "      <td>School Reported</td>\n",
              "      <td>School</td>\n",
              "      <td>Unspecified</td>\n",
              "      <td>Teacher</td>\n",
              "      <td>Base Salary/Compensation</td>\n",
              "      <td>Non PreK</td>\n",
              "      <td>PreK-12 Operating</td>\n",
              "      <td>Personal Services - Teachers</td>\n",
              "      <td>NaN</td>\n",
              "      <td>NaN</td>\n",
              "      <td>TCHER 2ND GRADE</td>\n",
              "      <td>NaN</td>\n",
              "      <td>Regular Instruction</td>\n",
              "      <td>NaN</td>\n",
              "      <td>NaN</td>\n",
              "      <td>1.0</td>\n",
              "      <td>NaN</td>\n",
              "      <td>NaN</td>\n",
              "      <td>TEACHER</td>\n",
              "      <td>62237.130</td>\n",
              "      <td>Instruction - Regular</td>\n",
              "      <td>General Purpose School</td>\n",
              "      <td>NaN</td>\n",
              "    </tr>\n",
              "    <tr>\n",
              "      <th>3</th>\n",
              "      <td>364634</td>\n",
              "      <td>Substitute Compensation</td>\n",
              "      <td>Instruction</td>\n",
              "      <td>School Reported</td>\n",
              "      <td>School</td>\n",
              "      <td>Unspecified</td>\n",
              "      <td>Substitute</td>\n",
              "      <td>Benefits</td>\n",
              "      <td>NO_LABEL</td>\n",
              "      <td>PreK-12 Operating</td>\n",
              "      <td>EMPLOYEE BENEFITS</td>\n",
              "      <td>TEACHER SUBS</td>\n",
              "      <td>GENERAL FUND</td>\n",
              "      <td>Teacher, Short Term Sub</td>\n",
              "      <td>Regular</td>\n",
              "      <td>NaN</td>\n",
              "      <td>NaN</td>\n",
              "      <td>NaN</td>\n",
              "      <td>NaN</td>\n",
              "      <td>UNALLOC BUDGETS/SCHOOLS</td>\n",
              "      <td>NaN</td>\n",
              "      <td>PROFESSIONAL-INSTRUCTIONAL</td>\n",
              "      <td>22.300</td>\n",
              "      <td>GENERAL MIDDLE/JUNIOR HIGH SCH</td>\n",
              "      <td>NaN</td>\n",
              "      <td>REGULAR INSTRUCTION</td>\n",
              "    </tr>\n",
              "    <tr>\n",
              "      <th>4</th>\n",
              "      <td>47683</td>\n",
              "      <td>Substitute Compensation</td>\n",
              "      <td>Instruction</td>\n",
              "      <td>School Reported</td>\n",
              "      <td>School</td>\n",
              "      <td>Unspecified</td>\n",
              "      <td>Teacher</td>\n",
              "      <td>Substitute Compensation</td>\n",
              "      <td>NO_LABEL</td>\n",
              "      <td>PreK-12 Operating</td>\n",
              "      <td>TEACHER COVERAGE FOR TEACHER</td>\n",
              "      <td>TEACHER SUBS</td>\n",
              "      <td>GENERAL FUND</td>\n",
              "      <td>Teacher, Secondary (High)</td>\n",
              "      <td>Alternative</td>\n",
              "      <td>NaN</td>\n",
              "      <td>NaN</td>\n",
              "      <td>NaN</td>\n",
              "      <td>NaN</td>\n",
              "      <td>NON-PROJECT</td>\n",
              "      <td>NaN</td>\n",
              "      <td>PROFESSIONAL-INSTRUCTIONAL</td>\n",
              "      <td>54.166</td>\n",
              "      <td>GENERAL HIGH SCHOOL EDUCATION</td>\n",
              "      <td>NaN</td>\n",
              "      <td>REGULAR INSTRUCTION</td>\n",
              "    </tr>\n",
              "  </tbody>\n",
              "</table>\n",
              "</div>"
            ],
            "text/plain": [
              "   Unnamed: 0  ...                         Text_1\n",
              "0      134338  ...                            NaN\n",
              "1      206341  ...  BUILDING IMPROVEMENT SERVICES\n",
              "2      326408  ...                            NaN\n",
              "3      364634  ...            REGULAR INSTRUCTION\n",
              "4       47683  ...            REGULAR INSTRUCTION\n",
              "\n",
              "[5 rows x 26 columns]"
            ]
          },
          "metadata": {}
        },
        {
          "output_type": "display_data",
          "data": {
            "text/html": [
              "<div>\n",
              "<style scoped>\n",
              "    .dataframe tbody tr th:only-of-type {\n",
              "        vertical-align: middle;\n",
              "    }\n",
              "\n",
              "    .dataframe tbody tr th {\n",
              "        vertical-align: top;\n",
              "    }\n",
              "\n",
              "    .dataframe thead th {\n",
              "        text-align: right;\n",
              "    }\n",
              "</style>\n",
              "<table border=\"1\" class=\"dataframe\">\n",
              "  <thead>\n",
              "    <tr style=\"text-align: right;\">\n",
              "      <th></th>\n",
              "      <th>Unnamed: 0</th>\n",
              "      <th>Function</th>\n",
              "      <th>Use</th>\n",
              "      <th>Sharing</th>\n",
              "      <th>Reporting</th>\n",
              "      <th>Student_Type</th>\n",
              "      <th>Position_Type</th>\n",
              "      <th>Object_Type</th>\n",
              "      <th>Pre_K</th>\n",
              "      <th>Operating_Status</th>\n",
              "      <th>Object_Description</th>\n",
              "      <th>Text_2</th>\n",
              "      <th>SubFund_Description</th>\n",
              "      <th>Job_Title_Description</th>\n",
              "      <th>Text_3</th>\n",
              "      <th>Text_4</th>\n",
              "      <th>Sub_Object_Description</th>\n",
              "      <th>Location_Description</th>\n",
              "      <th>FTE</th>\n",
              "      <th>Function_Description</th>\n",
              "      <th>Facility_or_Department</th>\n",
              "      <th>Position_Extra</th>\n",
              "      <th>Total</th>\n",
              "      <th>Program_Description</th>\n",
              "      <th>Fund_Description</th>\n",
              "      <th>Text_1</th>\n",
              "    </tr>\n",
              "  </thead>\n",
              "  <tbody>\n",
              "    <tr>\n",
              "      <th>400272</th>\n",
              "      <td>109283</td>\n",
              "      <td>Professional Development</td>\n",
              "      <td>ISPD</td>\n",
              "      <td>Shared Services</td>\n",
              "      <td>Non-School</td>\n",
              "      <td>Unspecified</td>\n",
              "      <td>Instructional Coach</td>\n",
              "      <td>Other Compensation/Stipend</td>\n",
              "      <td>NO_LABEL</td>\n",
              "      <td>PreK-12 Operating</td>\n",
              "      <td>WORKSHOP PARTICIPANT</td>\n",
              "      <td>NaN</td>\n",
              "      <td>NaN</td>\n",
              "      <td>CURRICULUM RESOURCE TEACHER</td>\n",
              "      <td>NaN</td>\n",
              "      <td>NaN</td>\n",
              "      <td>NaN</td>\n",
              "      <td>STAFF DEV AND INSTR MEDIA</td>\n",
              "      <td>NaN</td>\n",
              "      <td>INST STAFF TRAINING SVCS</td>\n",
              "      <td>NaN</td>\n",
              "      <td>NaN</td>\n",
              "      <td>48.620000</td>\n",
              "      <td>NaN</td>\n",
              "      <td>GENERAL FUND</td>\n",
              "      <td>STAFF DEV AND INSTR MEDIA</td>\n",
              "    </tr>\n",
              "    <tr>\n",
              "      <th>400273</th>\n",
              "      <td>102430</td>\n",
              "      <td>Substitute Compensation</td>\n",
              "      <td>Instruction</td>\n",
              "      <td>School Reported</td>\n",
              "      <td>School</td>\n",
              "      <td>Unspecified</td>\n",
              "      <td>Substitute</td>\n",
              "      <td>Base Salary/Compensation</td>\n",
              "      <td>NO_LABEL</td>\n",
              "      <td>PreK-12 Operating</td>\n",
              "      <td>SALARIES OF PART TIME EMPLOYEE</td>\n",
              "      <td>NaN</td>\n",
              "      <td>FEDERAL GDPG FUND - FY</td>\n",
              "      <td>Teacher,Retrd Shrt Term Sub</td>\n",
              "      <td>Regular</td>\n",
              "      <td>NaN</td>\n",
              "      <td>NaN</td>\n",
              "      <td>NaN</td>\n",
              "      <td>0.00431</td>\n",
              "      <td>TITLE II,D</td>\n",
              "      <td>NaN</td>\n",
              "      <td>PROFESSIONAL-INSTRUCTIONAL</td>\n",
              "      <td>128.824985</td>\n",
              "      <td>INSTRUCTIONAL STAFF TRAINING</td>\n",
              "      <td>NaN</td>\n",
              "      <td>INSTRUCTIONAL STAFF</td>\n",
              "    </tr>\n",
              "    <tr>\n",
              "      <th>400274</th>\n",
              "      <td>413949</td>\n",
              "      <td>Parent &amp; Community Relations</td>\n",
              "      <td>NO_LABEL</td>\n",
              "      <td>School Reported</td>\n",
              "      <td>School</td>\n",
              "      <td>NO_LABEL</td>\n",
              "      <td>Other</td>\n",
              "      <td>NO_LABEL</td>\n",
              "      <td>NO_LABEL</td>\n",
              "      <td>PreK-12 Operating</td>\n",
              "      <td>NaN</td>\n",
              "      <td>NaN</td>\n",
              "      <td>NaN</td>\n",
              "      <td>School Liaison</td>\n",
              "      <td>NaN</td>\n",
              "      <td>NaN</td>\n",
              "      <td>NaN</td>\n",
              "      <td>NaN</td>\n",
              "      <td>1.00000</td>\n",
              "      <td>NaN</td>\n",
              "      <td>NaN</td>\n",
              "      <td>PARENT/TITLE I</td>\n",
              "      <td>4902.290000</td>\n",
              "      <td>Misc</td>\n",
              "      <td>Schoolwide Schools</td>\n",
              "      <td>NaN</td>\n",
              "    </tr>\n",
              "    <tr>\n",
              "      <th>400275</th>\n",
              "      <td>433672</td>\n",
              "      <td>Library &amp; Media</td>\n",
              "      <td>Instruction</td>\n",
              "      <td>School on Central Budgets</td>\n",
              "      <td>Non-School</td>\n",
              "      <td>Unspecified</td>\n",
              "      <td>Librarian</td>\n",
              "      <td>Benefits</td>\n",
              "      <td>NO_LABEL</td>\n",
              "      <td>PreK-12 Operating</td>\n",
              "      <td>EMPLOYEE BENEFITS</td>\n",
              "      <td>EDUCATIONAL RESOURCE SERVICES</td>\n",
              "      <td>LEVY OVERRIDE</td>\n",
              "      <td>Library Technician II</td>\n",
              "      <td>NaN</td>\n",
              "      <td>NaN</td>\n",
              "      <td>NaN</td>\n",
              "      <td>ED RESOURCE SERVICES</td>\n",
              "      <td>NaN</td>\n",
              "      <td>NON-PROJECT</td>\n",
              "      <td>NaN</td>\n",
              "      <td>OFFICE/ADMINISTRATIVE SUPPORT</td>\n",
              "      <td>4020.290000</td>\n",
              "      <td>MEDIA SUPPORT SERVICES</td>\n",
              "      <td>NaN</td>\n",
              "      <td>INSTRUCTIONAL STAFF</td>\n",
              "    </tr>\n",
              "    <tr>\n",
              "      <th>400276</th>\n",
              "      <td>415831</td>\n",
              "      <td>Substitute Compensation</td>\n",
              "      <td>Instruction</td>\n",
              "      <td>School Reported</td>\n",
              "      <td>School</td>\n",
              "      <td>Poverty</td>\n",
              "      <td>Substitute</td>\n",
              "      <td>Substitute Compensation</td>\n",
              "      <td>Non PreK</td>\n",
              "      <td>PreK-12 Operating</td>\n",
              "      <td>Salaries And Wages For Substitute Professionals</td>\n",
              "      <td>NaN</td>\n",
              "      <td>\"Title  Part A Improving Basic Programs\"</td>\n",
              "      <td>TEACHER SUBSTITUTE POOL</td>\n",
              "      <td>NaN</td>\n",
              "      <td>Multilingual Dist Prof Development</td>\n",
              "      <td>Inservice Substitute Teachers Grant Funded</td>\n",
              "      <td>School</td>\n",
              "      <td>NaN</td>\n",
              "      <td>Instruction</td>\n",
              "      <td>Instruction And Curriculum</td>\n",
              "      <td>CERTIFIED SUBSTITUTE</td>\n",
              "      <td>46.530000</td>\n",
              "      <td>Accelerated Education</td>\n",
              "      <td>\"Title  Part A Improving Basic Programs\"</td>\n",
              "      <td>MISCELLANEOUS</td>\n",
              "    </tr>\n",
              "  </tbody>\n",
              "</table>\n",
              "</div>"
            ],
            "text/plain": [
              "        Unnamed: 0  ...                          Text_1\n",
              "400272      109283  ...  STAFF DEV AND INSTR MEDIA     \n",
              "400273      102430  ...             INSTRUCTIONAL STAFF\n",
              "400274      413949  ...                             NaN\n",
              "400275      433672  ...             INSTRUCTIONAL STAFF\n",
              "400276      415831  ...                  MISCELLANEOUS \n",
              "\n",
              "[5 rows x 26 columns]"
            ]
          },
          "metadata": {}
        }
      ]
    },
    {
      "cell_type": "markdown",
      "metadata": {
        "collapsed": false,
        "pycharm": {
          "name": "#%% md\n"
        },
        "id": "bsEDVqyCJBPJ"
      },
      "source": [
        "Some of the column names correspond to features - descriptions of the budget items - such as the Job_Title_Description column. The values in this column tell us if a budget item is for a teacher, custodian, or other employee. Some columns correspond to the budget item labels you will be trying to predict with your model. For example, the Object_Type column describes whether the budget item is related classroom supplies, salary, travel expenses, etc."
      ]
    },
    {
      "cell_type": "markdown",
      "metadata": {
        "collapsed": false,
        "pycharm": {
          "name": "#%% md\n"
        },
        "id": "h6rfpBwZJBPJ"
      },
      "source": [
        "FTE: Stands for \"full-time equivalent\". If the budget item is associated to an employee, this number tells us the percentage of full-time that the employee works. A value of 1 means the associated employee works for the school full-time. A value close to 0 means the item is associated to a part-time or contracted employee. Total: Stands for the total cost of the expenditure. This number tells us how much the budget item cost."
      ]
    },
    {
      "cell_type": "code",
      "metadata": {
        "pycharm": {
          "name": "#%%\n"
        },
        "id": "IFZvcHzEJBPK"
      },
      "source": [
        "for i in range(len(df)):\n",
        "    if df.loc[i,'FTE'] > 2 :\n",
        "        df.loc[i,'FTE'] = df['FTE'].median()\n",
        "    else:\n",
        "        pass"
      ],
      "execution_count": 24,
      "outputs": []
    },
    {
      "cell_type": "code",
      "metadata": {
        "pycharm": {
          "name": "#%%\n"
        },
        "id": "2B_fAXoNJBPL",
        "colab": {
          "base_uri": "https://localhost:8080/",
          "height": 463
        },
        "outputId": "3777be8c-a691-4d7a-e0bc-407e4761f7d1"
      },
      "source": [
        "# Print the summary statistics\n",
        "print(df.describe())\n",
        "# Import matplotlib.pyplot as plt\n",
        "import matplotlib.pyplot as plt\n",
        "# Create the histogram\n",
        "plt.hist(df['FTE'].dropna())\n",
        "# Add title and labels\n",
        "plt.title('Distribution of %full-time \\n employee works')\n",
        "plt.xlabel('% of full-time')\n",
        "plt.ylabel('num employees')\n",
        "# Display the histogram\n",
        "plt.show()"
      ],
      "execution_count": 25,
      "outputs": [
        {
          "output_type": "stream",
          "name": "stdout",
          "text": [
            "          Unnamed: 0            FTE         Total\n",
            "count  400277.000000  126071.000000  3.957220e+05\n",
            "mean   225186.018537       0.420513  1.310586e+04\n",
            "std    130025.142718       0.452173  3.682254e+05\n",
            "min         2.000000      -0.087551 -8.746631e+07\n",
            "25%    112601.000000       0.000792  7.379770e+01\n",
            "50%    225243.000000       0.130927  4.612300e+02\n",
            "75%    337722.000000       1.000000  3.652662e+03\n",
            "max    450340.000000       2.000000  1.297000e+08\n"
          ]
        },
        {
          "output_type": "display_data",
          "data": {
            "image/png": "[encoded data removed]",
            "text/plain": [
              "<Figure size 432x288 with 1 Axes>"
            ]
          },
          "metadata": {
            "needs_background": "light"
          }
        }
      ]
    },
    {
      "cell_type": "markdown",
      "metadata": {
        "collapsed": false,
        "pycharm": {
          "name": "#%% md\n"
        },
        "id": "pNRDPn1JJBPM"
      },
      "source": [
        "The high variance in expenditures makes sense (some purchases are cheap some are expensive). Also, it looks like the FTE column is bimodal. That is, there are some part-time and some full-time employees."
      ]
    },
    {
      "cell_type": "markdown",
      "metadata": {
        "collapsed": false,
        "pycharm": {
          "name": "#%% md\n"
        },
        "id": "gIzSFBEjJBPM"
      },
      "source": [
        "There are 9 columns of labels in the dataset. Each of these columns is a category that has many possible values it can take."
      ]
    },
    {
      "cell_type": "code",
      "metadata": {
        "pycharm": {
          "name": "#%%\n"
        },
        "id": "SjwDp6PQJBPM",
        "colab": {
          "base_uri": "https://localhost:8080/"
        },
        "outputId": "0eed382c-f685-4293-b246-0b07a0a087ef"
      },
      "source": [
        "LABELS = ['Function','Use','Sharing','Reporting','Student_Type','Position_Type','Object_Type','Pre_K','Operating_Status']\n",
        "# Define the lambda function: categorize_label\n",
        "categorize_label = lambda x:x.astype('category')\n",
        "# Convert df[LABELS] to a categorical type\n",
        "df[LABELS] = df[LABELS].apply(categorize_label,axis=0)\n",
        "# Print the converted dtypes\n",
        "print(df[LABELS].dtypes)"
      ],
      "execution_count": 26,
      "outputs": [
        {
          "output_type": "stream",
          "name": "stdout",
          "text": [
            "Function            category\n",
            "Use                 category\n",
            "Sharing             category\n",
            "Reporting           category\n",
            "Student_Type        category\n",
            "Position_Type       category\n",
            "Object_Type         category\n",
            "Pre_K               category\n",
            "Operating_Status    category\n",
            "dtype: object\n"
          ]
        }
      ]
    },
    {
      "cell_type": "markdown",
      "metadata": {
        "collapsed": false,
        "pycharm": {
          "name": "#%% md\n"
        },
        "id": "eLKPpllEJBPN"
      },
      "source": [
        "Observe there are over 100 unique labels"
      ]
    },
    {
      "cell_type": "code",
      "metadata": {
        "pycharm": {
          "name": "#%%\n"
        },
        "id": "KFAM9lrbJBPO",
        "colab": {
          "base_uri": "https://localhost:8080/",
          "height": 356
        },
        "outputId": "168d2930-0de6-4aa8-a01d-d9c71a898b6e"
      },
      "source": [
        "# Calculate number of unique values for each label: num_unique_labels\n",
        "num_unique_labels = df[LABELS].apply(pd.Series.nunique)\n",
        "# Plot number of unique values for each label\n",
        "num_unique_labels.plot(kind = 'bar')\n",
        "# Label the axes\n",
        "plt.xlabel('Labels')\n",
        "plt.ylabel('Number of unique values')\n",
        "# Display the plot\n",
        "plt.show()"
      ],
      "execution_count": 27,
      "outputs": [
        {
          "output_type": "display_data",
          "data": {
            "image/png": "[encoded data removed]",
            "text/plain": [
              "<Figure size 432x288 with 1 Axes>"
            ]
          },
          "metadata": {
            "needs_background": "light"
          }
        }
      ]
    },
    {
      "cell_type": "markdown",
      "metadata": {
        "collapsed": false,
        "pycharm": {
          "name": "#%% md\n"
        },
        "id": "HUFlu4ZZJBPP"
      },
      "source": [
        "We know that log loss metric penalizes highly confident wrong answers much more than any other type"
      ]
    },
    {
      "cell_type": "markdown",
      "metadata": {
        "collapsed": false,
        "pycharm": {
          "name": "#%% md\n"
        },
        "id": "e4lGz9NKJBPP"
      },
      "source": [
        "# I'ts time to build a model.\n",
        " * Always a Good Approach to start with a very simple model\n",
        " * Gives a Sense of how challeging the problem is\n",
        " * We will start with a model on numeric data only\n",
        "    * Want to go from raw data to predictions quickly\n",
        " * With Multiclass Logistic Regression\n",
        "    * Trainin classifier on each label separately and use those to predict\n",
        " * Format predictions and save to a csv\n",
        " * Compute log loss metric"
      ]
    },
    {
      "cell_type": "markdown",
      "metadata": {
        "collapsed": false,
        "pycharm": {
          "name": "#%% md\n"
        },
        "id": "6oGTLoHfJBPQ"
      },
      "source": [
        "## Splitting the multiclass dataset won't work here\n",
        "Some labels only appear in small fraction of the data\n",
        "* If we split up our data randomly it may end up with labels in test set that never appear in training set\n",
        "* Solution: *StratifiedShuffleSplit*\n",
        "    * **Only works with a single target variable**\n",
        "    * We have many target variables\n",
        "    * We will provide a function: *multilabel_train_test_split()*"
      ]
    },
    {
      "cell_type": "markdown",
      "metadata": {
        "collapsed": false,
        "pycharm": {
          "name": "#%% md\n"
        },
        "id": "ZlQMl-d-JBPQ"
      },
      "source": [
        "## Splitting the data"
      ]
    },
    {
      "cell_type": "code",
      "metadata": {
        "pycharm": {
          "name": "#%%\n"
        },
        "id": "nXYwxi_qJBPQ",
        "colab": {
          "base_uri": "https://localhost:8080/"
        },
        "outputId": "ba939877-bfd3-4f06-f119-29db2b03e2de"
      },
      "source": [
        "NUMERIC_COLUMNS = df.columns[df.dtypes == 'float' ]\n",
        "from multilabel import multilabel_train_test_split\n",
        "data_to_train = df[NUMERIC_COLUMNS].fillna(-1000)\n",
        "labels_to_use = pd.get_dummies(df[LABELS])\n",
        "X_train,X_test,y_train,y_test = multilabel_train_test_split(data_to_train,labels_to_use,size=0.2,seed=123)\n",
        "print(\"X_train info:\")\n",
        "print(X_train.info())\n",
        "print(\"\\nX_test info:\")\n",
        "print(X_test.info())\n",
        "print(\"\\ny_train info:\")\n",
        "print(y_train.info())\n",
        "print(\"\\ny_test info:\")\n",
        "print(y_test.info())"
      ],
      "execution_count": 28,
      "outputs": [
        {
          "output_type": "stream",
          "name": "stdout",
          "text": [
            "X_train info:\n",
            "<class 'pandas.core.frame.DataFrame'>\n",
            "Int64Index: 320222 entries, 0 to 400276\n",
            "Data columns (total 2 columns):\n",
            " #   Column  Non-Null Count   Dtype  \n",
            "---  ------  --------------   -----  \n",
            " 0   FTE     320222 non-null  float64\n",
            " 1   Total   320222 non-null  float64\n",
            "dtypes: float64(2)\n",
            "memory usage: 7.3 MB\n",
            "None\n",
            "\n",
            "X_test info:\n",
            "<class 'pandas.core.frame.DataFrame'>\n",
            "Int64Index: 80055 entries, 4 to 400274\n",
            "Data columns (total 2 columns):\n",
            " #   Column  Non-Null Count  Dtype  \n",
            "---  ------  --------------  -----  \n",
            " 0   FTE     80055 non-null  float64\n",
            " 1   Total   80055 non-null  float64\n",
            "dtypes: float64(2)\n",
            "memory usage: 1.8 MB\n",
            "None\n",
            "\n",
            "y_train info:\n",
            "<class 'pandas.core.frame.DataFrame'>\n",
            "Int64Index: 320222 entries, 0 to 400276\n",
            "Columns: 104 entries, Function_Aides Compensation to Operating_Status_PreK-12 Operating\n",
            "dtypes: uint8(104)\n",
            "memory usage: 34.2 MB\n",
            "None\n",
            "\n",
            "y_test info:\n",
            "<class 'pandas.core.frame.DataFrame'>\n",
            "Int64Index: 80055 entries, 4 to 400274\n",
            "Columns: 104 entries, Function_Aides Compensation to Operating_Status_PreK-12 Operating\n",
            "dtypes: uint8(104)\n",
            "memory usage: 8.6 MB\n",
            "None\n"
          ]
        }
      ]
    },
    {
      "cell_type": "markdown",
      "metadata": {
        "collapsed": false,
        "pycharm": {
          "name": "#%% md\n"
        },
        "id": "9lqJng1JJBPR"
      },
      "source": [
        "## Training the model"
      ]
    },
    {
      "cell_type": "code",
      "metadata": {
        "pycharm": {
          "name": "#%%\n"
        },
        "id": "jyKqqsqSJBPR",
        "colab": {
          "base_uri": "https://localhost:8080/"
        },
        "outputId": "06fea51c-356e-4855-848f-25773f36e194"
      },
      "source": [
        "from sklearn.linear_model import LogisticRegression\n",
        "from sklearn.multiclass import OneVsRestClassifier\n",
        "clf = OneVsRestClassifier(LogisticRegression())\n",
        "clf.fit(X_train,y_train)\n",
        "print(\"Accuracy: {}\".format(clf.score(X_test,y_test)))"
      ],
      "execution_count": 29,
      "outputs": [
        {
          "output_type": "stream",
          "name": "stdout",
          "text": [
            "Accuracy: 0.0\n"
          ]
        }
      ]
    },
    {
      "cell_type": "markdown",
      "metadata": {
        "collapsed": false,
        "pycharm": {
          "name": "#%% md\n"
        },
        "id": "RV1tP2z2JBPR"
      },
      "source": [
        "**OneVsRestClassifier**\n",
        "   * Treats each column of y independently\n",
        "   * Fits a separate classifier for each of the columns"
      ]
    }
  ]
}